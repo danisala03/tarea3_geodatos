{
 "cells": [
  {
   "cell_type": "markdown",
   "id": "d6adc0cc",
   "metadata": {},
   "source": [
    "# Tarea 03 - Análisis de datos geoespaciales mediante pandas, plotly, geopandas y folium"
   ]
  },
  {
   "cell_type": "markdown",
   "id": "23ac6535",
   "metadata": {},
   "source": [
    "## Estudiantes:\n",
    "\n",
    "Daniel Salazar Mora - B87214\n",
    "Stephanie María Leitón Ramírez - B74106\n"
   ]
  },
  {
   "cell_type": "code",
   "execution_count": 28,
   "id": "3deba37c",
   "metadata": {},
   "outputs": [],
   "source": [
    "import os\n",
    "import fiona\n",
    "import fiona.crs\n",
    "import folium\n",
    "import geopandas as gpad\n",
    "import plotly.express as px"
   ]
  },
  {
   "cell_type": "markdown",
   "id": "3239b50b",
   "metadata": {},
   "source": [
    "## Obtención de datos\n",
    "\n",
    "Se usan las capas de Web Feature Service (WFS) publicadas por el Instituto Geográfico Nacional (IGN) en el Sistema Nacional de Información Territorial (SNIT):\n",
    "\n",
    "Límite cantonal 1:5000\n",
    "https://www.snitcr.go.cr/ico_servicios_ogc_info?k=bm9kbzo6MjY=&nombre=IGN%20Cartograf%C3%ADa%201:5mil\n",
    " \n",
    "Red vial 1:200000\n",
    "https://www.snitcr.go.cr/ico_servicios_ogc_info?k=bm9kbzo6NDI=&nombre=IGN%201:200mil\n"
   ]
  },
  {
   "cell_type": "markdown",
   "id": "2f31c5dc",
   "metadata": {},
   "source": [
    "## Tabla con los 82 cantones de Costa Rica"
   ]
  },
  {
   "cell_type": "code",
   "execution_count": 29,
   "id": "d16132f8",
   "metadata": {},
   "outputs": [],
   "source": [
    "#cargar como geopandas\n",
    "redvial_file = gpad.read_file('../datos/redvial.geojson')\n",
    "cantones_file = gpad.read_file('../datos/cantones.geojson')\n",
    "#convertir capas\n",
    "redvial_file.to_crs(5367)\n",
    "cantones_file.to_crs(5367)\n",
    "\n",
    "#Unir las capas con intersección espacial \n",
    "redvial_x_canton = cantones_file.overlay(redvial_file, how='intersection', keep_geom_type=False)\n",
    "redvial_x_canton['longitud'] = redvial_x_canton['geometry'].length /1000"
   ]
  },
  {
   "cell_type": "code",
   "execution_count": 30,
   "id": "d91dc6f5",
   "metadata": {},
   "outputs": [
    {
     "data": {
      "text/html": [
       "<div>\n",
       "<style scoped>\n",
       "    .dataframe tbody tr th:only-of-type {\n",
       "        vertical-align: middle;\n",
       "    }\n",
       "\n",
       "    .dataframe tbody tr th {\n",
       "        vertical-align: top;\n",
       "    }\n",
       "\n",
       "    .dataframe thead th {\n",
       "        text-align: right;\n",
       "    }\n",
       "</style>\n",
       "<table border=\"1\" class=\"dataframe\">\n",
       "  <thead>\n",
       "    <tr style=\"text-align: right;\">\n",
       "      <th>categoria</th>\n",
       "      <th>canton</th>\n",
       "      <th>area</th>\n",
       "      <th>AUTOPISTA</th>\n",
       "      <th>CAMINO DE TIERRA</th>\n",
       "      <th>CARRETERA PAVIMENTO DOS VIAS O MAS</th>\n",
       "      <th>CARRETERA PAVIMENTO UNA VIA</th>\n",
       "      <th>CARRETERA SIN PAVIMENTO DOS VIAS</th>\n",
       "      <th>longitud</th>\n",
       "      <th>densidad</th>\n",
       "    </tr>\n",
       "  </thead>\n",
       "  <tbody>\n",
       "    <tr>\n",
       "      <th>0</th>\n",
       "      <td>Abangares</td>\n",
       "      <td>646.02</td>\n",
       "      <td>NaN</td>\n",
       "      <td>331.977159</td>\n",
       "      <td>27.802821</td>\n",
       "      <td>166.543299</td>\n",
       "      <td>NaN</td>\n",
       "      <td>526.323279</td>\n",
       "      <td>0.814717</td>\n",
       "    </tr>\n",
       "    <tr>\n",
       "      <th>1</th>\n",
       "      <td>Acosta</td>\n",
       "      <td>342.56</td>\n",
       "      <td>NaN</td>\n",
       "      <td>134.985549</td>\n",
       "      <td>61.873532</td>\n",
       "      <td>121.652652</td>\n",
       "      <td>NaN</td>\n",
       "      <td>318.511734</td>\n",
       "      <td>0.929798</td>\n",
       "    </tr>\n",
       "    <tr>\n",
       "      <th>2</th>\n",
       "      <td>Alajuela</td>\n",
       "      <td>391.62</td>\n",
       "      <td>15.946261</td>\n",
       "      <td>88.451317</td>\n",
       "      <td>186.163857</td>\n",
       "      <td>167.447431</td>\n",
       "      <td>NaN</td>\n",
       "      <td>458.008866</td>\n",
       "      <td>1.169524</td>\n",
       "    </tr>\n",
       "    <tr>\n",
       "      <th>3</th>\n",
       "      <td>Alajuelita</td>\n",
       "      <td>21.47</td>\n",
       "      <td>NaN</td>\n",
       "      <td>0.551762</td>\n",
       "      <td>9.822216</td>\n",
       "      <td>15.771646</td>\n",
       "      <td>NaN</td>\n",
       "      <td>26.145623</td>\n",
       "      <td>1.217775</td>\n",
       "    </tr>\n",
       "    <tr>\n",
       "      <th>4</th>\n",
       "      <td>Alvarado</td>\n",
       "      <td>79.18</td>\n",
       "      <td>NaN</td>\n",
       "      <td>29.163951</td>\n",
       "      <td>39.423033</td>\n",
       "      <td>24.724775</td>\n",
       "      <td>21.368291</td>\n",
       "      <td>114.680049</td>\n",
       "      <td>1.448346</td>\n",
       "    </tr>\n",
       "    <tr>\n",
       "      <th>...</th>\n",
       "      <td>...</td>\n",
       "      <td>...</td>\n",
       "      <td>...</td>\n",
       "      <td>...</td>\n",
       "      <td>...</td>\n",
       "      <td>...</td>\n",
       "      <td>...</td>\n",
       "      <td>...</td>\n",
       "      <td>...</td>\n",
       "    </tr>\n",
       "    <tr>\n",
       "      <th>77</th>\n",
       "      <td>Turrialba</td>\n",
       "      <td>1589.25</td>\n",
       "      <td>NaN</td>\n",
       "      <td>251.619924</td>\n",
       "      <td>143.582925</td>\n",
       "      <td>270.827869</td>\n",
       "      <td>22.053836</td>\n",
       "      <td>688.084554</td>\n",
       "      <td>0.432962</td>\n",
       "    </tr>\n",
       "    <tr>\n",
       "      <th>78</th>\n",
       "      <td>Turrubares</td>\n",
       "      <td>416.25</td>\n",
       "      <td>NaN</td>\n",
       "      <td>201.945161</td>\n",
       "      <td>NaN</td>\n",
       "      <td>46.432388</td>\n",
       "      <td>58.092454</td>\n",
       "      <td>306.470003</td>\n",
       "      <td>0.736264</td>\n",
       "    </tr>\n",
       "    <tr>\n",
       "      <th>79</th>\n",
       "      <td>Upala</td>\n",
       "      <td>1592.67</td>\n",
       "      <td>NaN</td>\n",
       "      <td>339.288158</td>\n",
       "      <td>9.263710</td>\n",
       "      <td>418.678393</td>\n",
       "      <td>2.904216</td>\n",
       "      <td>770.134477</td>\n",
       "      <td>0.483549</td>\n",
       "    </tr>\n",
       "    <tr>\n",
       "      <th>80</th>\n",
       "      <td>Vázquez de Coronado</td>\n",
       "      <td>223.93</td>\n",
       "      <td>5.890912</td>\n",
       "      <td>25.484220</td>\n",
       "      <td>39.489144</td>\n",
       "      <td>52.697498</td>\n",
       "      <td>NaN</td>\n",
       "      <td>123.561775</td>\n",
       "      <td>0.551788</td>\n",
       "    </tr>\n",
       "    <tr>\n",
       "      <th>81</th>\n",
       "      <td>Zarcero</td>\n",
       "      <td>157.36</td>\n",
       "      <td>NaN</td>\n",
       "      <td>33.100927</td>\n",
       "      <td>13.691174</td>\n",
       "      <td>96.593003</td>\n",
       "      <td>NaN</td>\n",
       "      <td>143.385104</td>\n",
       "      <td>0.911192</td>\n",
       "    </tr>\n",
       "  </tbody>\n",
       "</table>\n",
       "<p>82 rows × 9 columns</p>\n",
       "</div>"
      ],
      "text/plain": [
       "categoria               canton     area  AUTOPISTA  CAMINO DE TIERRA  \\\n",
       "0                    Abangares   646.02        NaN        331.977159   \n",
       "1                       Acosta   342.56        NaN        134.985549   \n",
       "2                     Alajuela   391.62  15.946261         88.451317   \n",
       "3                   Alajuelita    21.47        NaN          0.551762   \n",
       "4                     Alvarado    79.18        NaN         29.163951   \n",
       "..                         ...      ...        ...               ...   \n",
       "77                   Turrialba  1589.25        NaN        251.619924   \n",
       "78                  Turrubares   416.25        NaN        201.945161   \n",
       "79                       Upala  1592.67        NaN        339.288158   \n",
       "80         Vázquez de Coronado   223.93   5.890912         25.484220   \n",
       "81                     Zarcero   157.36        NaN         33.100927   \n",
       "\n",
       "categoria  CARRETERA PAVIMENTO DOS VIAS O MAS  CARRETERA PAVIMENTO UNA VIA  \\\n",
       "0                                   27.802821                   166.543299   \n",
       "1                                   61.873532                   121.652652   \n",
       "2                                  186.163857                   167.447431   \n",
       "3                                    9.822216                    15.771646   \n",
       "4                                   39.423033                    24.724775   \n",
       "..                                        ...                          ...   \n",
       "77                                 143.582925                   270.827869   \n",
       "78                                        NaN                    46.432388   \n",
       "79                                   9.263710                   418.678393   \n",
       "80                                  39.489144                    52.697498   \n",
       "81                                  13.691174                    96.593003   \n",
       "\n",
       "categoria  CARRETERA SIN PAVIMENTO DOS VIAS    longitud  densidad  \n",
       "0                                       NaN  526.323279  0.814717  \n",
       "1                                       NaN  318.511734  0.929798  \n",
       "2                                       NaN  458.008866  1.169524  \n",
       "3                                       NaN   26.145623  1.217775  \n",
       "4                                 21.368291  114.680049  1.448346  \n",
       "..                                      ...         ...       ...  \n",
       "77                                22.053836  688.084554  0.432962  \n",
       "78                                58.092454  306.470003  0.736264  \n",
       "79                                 2.904216  770.134477  0.483549  \n",
       "80                                      NaN  123.561775  0.551788  \n",
       "81                                      NaN  143.385104  0.911192  \n",
       "\n",
       "[82 rows x 9 columns]"
      ]
     },
     "execution_count": 30,
     "metadata": {},
     "output_type": "execute_result"
    }
   ],
   "source": [
    "# Group by de canton y categorias\n",
    "redvial_x_canton_agrupados = redvial_x_canton.groupby(['canton', 'categoria']).agg({'longitud': 'sum', 'area': 'min'})\n",
    "redvial_x_canton_agrupados = redvial_x_canton_agrupados.reset_index()\n",
    "\n",
    "# Se separan las categorias como columnas al añadir un multinivel\n",
    "redvial_x_canton_agrupados = redvial_x_canton_agrupados.pivot_table('longitud', ['canton', 'area'], 'categoria')\n",
    "\n",
    "# reordenar columnas volviendo a un sólo nivel de columnas\n",
    "redvial_x_canton_agrupados.reset_index( drop=False, inplace=True )\n",
    "redvial_x_canton_agrupados.reindex(['CAMINO DE TIERRA','AUTOPISTA',\n",
    "                                        'CARRETERA PAVIMENTO DOS VIAS O MAS',\n",
    "                                        'CARRETERA PAVIMENTO UNA VIA',\n",
    "                                        'CARRETERA SIN PAVIMENTO DOS VIAS'], axis=1)\n",
    "\n",
    "# calcular longitud total\n",
    "redvial_x_canton_agrupados['longitud'] = redvial_x_canton_agrupados[['CAMINO DE TIERRA','AUTOPISTA',\n",
    "                                                                        'CARRETERA PAVIMENTO DOS VIAS O MAS',\n",
    "                                                                        'CARRETERA PAVIMENTO UNA VIA',\n",
    "                                                                        'CARRETERA SIN PAVIMENTO DOS VIAS'\n",
    "                                                                       ]].sum(axis=1)\n",
    "\n",
    "\n",
    "#calcular densidad\n",
    "redvial_x_canton_agrupados['densidad'] = redvial_x_canton_agrupados[\"longitud\"].div(redvial_x_canton_agrupados['area'])\n",
    "\n",
    "redvial_x_canton_agrupados"
   ]
  },
  {
   "cell_type": "markdown",
   "id": "05bfc861",
   "metadata": {},
   "source": [
    "## Gráfico plotly de barras "
   ]
  },
  {
   "cell_type": "code",
   "execution_count": 31,
   "id": "b10f7f14",
   "metadata": {},
   "outputs": [
    {
     "data": {
      "application/vnd.plotly.v1+json": {
       "config": {
        "plotlyServerURL": "https://plot.ly"
       },
       "data": [
        {
         "alignmentgroup": "True",
         "hovertemplate": "variable=CAMINO DE TIERRA<br>canton=%{x}<br>value=%{y}<extra></extra>",
         "legendgroup": "CAMINO DE TIERRA",
         "marker": {
          "color": "#636efa",
          "pattern": {
           "shape": ""
          }
         },
         "name": "CAMINO DE TIERRA",
         "offsetgroup": "CAMINO DE TIERRA",
         "orientation": "v",
         "showlegend": true,
         "textposition": "auto",
         "type": "bar",
         "x": [
          "San Carlos",
          "Pérez Zeledón",
          "Puntarenas",
          "Buenos Aires",
          "Sarapiquí",
          "Liberia",
          "Pococí",
          "Nicoya",
          "Santa Cruz",
          "Bagaces",
          "Los Chiles",
          "Upala",
          "Coto Brus",
          "La Cruz",
          "Turrialba"
         ],
         "xaxis": "x",
         "y": [
          1681.4853438998603,
          524.6636429653456,
          930.3539071576344,
          691.7324806275249,
          561.1475177631542,
          751.6908003951178,
          412.3928957598472,
          629.493067158883,
          662.4226966684149,
          676.1364820955938,
          433.7293743062103,
          339.2881575953783,
          268.98248515870813,
          535.0939468445307,
          251.61992433704432
         ],
         "yaxis": "y"
        },
        {
         "alignmentgroup": "True",
         "hovertemplate": "variable=AUTOPISTA<br>canton=%{x}<br>value=%{y}<extra></extra>",
         "legendgroup": "AUTOPISTA",
         "marker": {
          "color": "#EF553B",
          "pattern": {
           "shape": ""
          }
         },
         "name": "AUTOPISTA",
         "offsetgroup": "AUTOPISTA",
         "orientation": "v",
         "showlegend": true,
         "textposition": "auto",
         "type": "bar",
         "x": [
          "San Carlos",
          "Pérez Zeledón",
          "Puntarenas",
          "Buenos Aires",
          "Sarapiquí",
          "Liberia",
          "Pococí",
          "Nicoya",
          "Santa Cruz",
          "Bagaces",
          "Los Chiles",
          "Upala",
          "Coto Brus",
          "La Cruz",
          "Turrialba"
         ],
         "xaxis": "x",
         "y": [
          null,
          null,
          null,
          null,
          null,
          null,
          null,
          null,
          null,
          null,
          null,
          null,
          null,
          null,
          null
         ],
         "yaxis": "y"
        },
        {
         "alignmentgroup": "True",
         "hovertemplate": "variable=CARRETERA PAVIMENTO DOS VIAS O MAS<br>canton=%{x}<br>value=%{y}<extra></extra>",
         "legendgroup": "CARRETERA PAVIMENTO DOS VIAS O MAS",
         "marker": {
          "color": "#00cc96",
          "pattern": {
           "shape": ""
          }
         },
         "name": "CARRETERA PAVIMENTO DOS VIAS O MAS",
         "offsetgroup": "CARRETERA PAVIMENTO DOS VIAS O MAS",
         "orientation": "v",
         "showlegend": true,
         "textposition": "auto",
         "type": "bar",
         "x": [
          "San Carlos",
          "Pérez Zeledón",
          "Puntarenas",
          "Buenos Aires",
          "Sarapiquí",
          "Liberia",
          "Pococí",
          "Nicoya",
          "Santa Cruz",
          "Bagaces",
          "Los Chiles",
          "Upala",
          "Coto Brus",
          "La Cruz",
          "Turrialba"
         ],
         "xaxis": "x",
         "y": [
          112.4825829443498,
          316.75037308575486,
          null,
          170.93028801282912,
          110.71756911982554,
          39.94829800650129,
          132.56097017967485,
          20.65773174339661,
          null,
          29.012149355902288,
          114.47186758519726,
          9.263710333942221,
          108.75945713094353,
          46.0756199479687,
          143.5829245899975
         ],
         "yaxis": "y"
        },
        {
         "alignmentgroup": "True",
         "hovertemplate": "variable=CARRETERA PAVIMENTO UNA VIA<br>canton=%{x}<br>value=%{y}<extra></extra>",
         "legendgroup": "CARRETERA PAVIMENTO UNA VIA",
         "marker": {
          "color": "#ab63fa",
          "pattern": {
           "shape": ""
          }
         },
         "name": "CARRETERA PAVIMENTO UNA VIA",
         "offsetgroup": "CARRETERA PAVIMENTO UNA VIA",
         "orientation": "v",
         "showlegend": true,
         "textposition": "auto",
         "type": "bar",
         "x": [
          "San Carlos",
          "Pérez Zeledón",
          "Puntarenas",
          "Buenos Aires",
          "Sarapiquí",
          "Liberia",
          "Pococí",
          "Nicoya",
          "Santa Cruz",
          "Bagaces",
          "Los Chiles",
          "Upala",
          "Coto Brus",
          "La Cruz",
          "Turrialba"
         ],
         "xaxis": "x",
         "y": [
          797.0924552214425,
          573.2280876270825,
          437.80888681195495,
          434.4232765234087,
          431.4883399276307,
          278.8039229158464,
          359.4347445966713,
          332.02756347272987,
          302.75602847336364,
          142.3920767928846,
          228.78653774746738,
          418.6783927827397,
          369.56074486207046,
          128.6656249396207,
          270.8278688015168
         ],
         "yaxis": "y"
        },
        {
         "alignmentgroup": "True",
         "hovertemplate": "variable=CARRETERA SIN PAVIMENTO DOS VIAS<br>canton=%{x}<br>value=%{y}<extra></extra>",
         "legendgroup": "CARRETERA SIN PAVIMENTO DOS VIAS",
         "marker": {
          "color": "#FFA15A",
          "pattern": {
           "shape": ""
          }
         },
         "name": "CARRETERA SIN PAVIMENTO DOS VIAS",
         "offsetgroup": "CARRETERA SIN PAVIMENTO DOS VIAS",
         "orientation": "v",
         "showlegend": true,
         "textposition": "auto",
         "type": "bar",
         "x": [
          "San Carlos",
          "Pérez Zeledón",
          "Puntarenas",
          "Buenos Aires",
          "Sarapiquí",
          "Liberia",
          "Pococí",
          "Nicoya",
          "Santa Cruz",
          "Bagaces",
          "Los Chiles",
          "Upala",
          "Coto Brus",
          "La Cruz",
          "Turrialba"
         ],
         "xaxis": "x",
         "y": [
          null,
          14.918528394852885,
          null,
          null,
          null,
          null,
          153.6328917505707,
          null,
          null,
          null,
          null,
          2.904216285627675,
          null,
          4.303193843929306,
          22.05383607592845
         ],
         "yaxis": "y"
        }
       ],
       "layout": {
        "barmode": "relative",
        "legend": {
         "title": {
          "text": "variable"
         },
         "tracegroupgap": 0
        },
        "template": {
         "data": {
          "bar": [
           {
            "error_x": {
             "color": "#2a3f5f"
            },
            "error_y": {
             "color": "#2a3f5f"
            },
            "marker": {
             "line": {
              "color": "#E5ECF6",
              "width": 0.5
             },
             "pattern": {
              "fillmode": "overlay",
              "size": 10,
              "solidity": 0.2
             }
            },
            "type": "bar"
           }
          ],
          "barpolar": [
           {
            "marker": {
             "line": {
              "color": "#E5ECF6",
              "width": 0.5
             },
             "pattern": {
              "fillmode": "overlay",
              "size": 10,
              "solidity": 0.2
             }
            },
            "type": "barpolar"
           }
          ],
          "carpet": [
           {
            "aaxis": {
             "endlinecolor": "#2a3f5f",
             "gridcolor": "white",
             "linecolor": "white",
             "minorgridcolor": "white",
             "startlinecolor": "#2a3f5f"
            },
            "baxis": {
             "endlinecolor": "#2a3f5f",
             "gridcolor": "white",
             "linecolor": "white",
             "minorgridcolor": "white",
             "startlinecolor": "#2a3f5f"
            },
            "type": "carpet"
           }
          ],
          "choropleth": [
           {
            "colorbar": {
             "outlinewidth": 0,
             "ticks": ""
            },
            "type": "choropleth"
           }
          ],
          "contour": [
           {
            "colorbar": {
             "outlinewidth": 0,
             "ticks": ""
            },
            "colorscale": [
             [
              0,
              "#0d0887"
             ],
             [
              0.1111111111111111,
              "#46039f"
             ],
             [
              0.2222222222222222,
              "#7201a8"
             ],
             [
              0.3333333333333333,
              "#9c179e"
             ],
             [
              0.4444444444444444,
              "#bd3786"
             ],
             [
              0.5555555555555556,
              "#d8576b"
             ],
             [
              0.6666666666666666,
              "#ed7953"
             ],
             [
              0.7777777777777778,
              "#fb9f3a"
             ],
             [
              0.8888888888888888,
              "#fdca26"
             ],
             [
              1,
              "#f0f921"
             ]
            ],
            "type": "contour"
           }
          ],
          "contourcarpet": [
           {
            "colorbar": {
             "outlinewidth": 0,
             "ticks": ""
            },
            "type": "contourcarpet"
           }
          ],
          "heatmap": [
           {
            "colorbar": {
             "outlinewidth": 0,
             "ticks": ""
            },
            "colorscale": [
             [
              0,
              "#0d0887"
             ],
             [
              0.1111111111111111,
              "#46039f"
             ],
             [
              0.2222222222222222,
              "#7201a8"
             ],
             [
              0.3333333333333333,
              "#9c179e"
             ],
             [
              0.4444444444444444,
              "#bd3786"
             ],
             [
              0.5555555555555556,
              "#d8576b"
             ],
             [
              0.6666666666666666,
              "#ed7953"
             ],
             [
              0.7777777777777778,
              "#fb9f3a"
             ],
             [
              0.8888888888888888,
              "#fdca26"
             ],
             [
              1,
              "#f0f921"
             ]
            ],
            "type": "heatmap"
           }
          ],
          "heatmapgl": [
           {
            "colorbar": {
             "outlinewidth": 0,
             "ticks": ""
            },
            "colorscale": [
             [
              0,
              "#0d0887"
             ],
             [
              0.1111111111111111,
              "#46039f"
             ],
             [
              0.2222222222222222,
              "#7201a8"
             ],
             [
              0.3333333333333333,
              "#9c179e"
             ],
             [
              0.4444444444444444,
              "#bd3786"
             ],
             [
              0.5555555555555556,
              "#d8576b"
             ],
             [
              0.6666666666666666,
              "#ed7953"
             ],
             [
              0.7777777777777778,
              "#fb9f3a"
             ],
             [
              0.8888888888888888,
              "#fdca26"
             ],
             [
              1,
              "#f0f921"
             ]
            ],
            "type": "heatmapgl"
           }
          ],
          "histogram": [
           {
            "marker": {
             "pattern": {
              "fillmode": "overlay",
              "size": 10,
              "solidity": 0.2
             }
            },
            "type": "histogram"
           }
          ],
          "histogram2d": [
           {
            "colorbar": {
             "outlinewidth": 0,
             "ticks": ""
            },
            "colorscale": [
             [
              0,
              "#0d0887"
             ],
             [
              0.1111111111111111,
              "#46039f"
             ],
             [
              0.2222222222222222,
              "#7201a8"
             ],
             [
              0.3333333333333333,
              "#9c179e"
             ],
             [
              0.4444444444444444,
              "#bd3786"
             ],
             [
              0.5555555555555556,
              "#d8576b"
             ],
             [
              0.6666666666666666,
              "#ed7953"
             ],
             [
              0.7777777777777778,
              "#fb9f3a"
             ],
             [
              0.8888888888888888,
              "#fdca26"
             ],
             [
              1,
              "#f0f921"
             ]
            ],
            "type": "histogram2d"
           }
          ],
          "histogram2dcontour": [
           {
            "colorbar": {
             "outlinewidth": 0,
             "ticks": ""
            },
            "colorscale": [
             [
              0,
              "#0d0887"
             ],
             [
              0.1111111111111111,
              "#46039f"
             ],
             [
              0.2222222222222222,
              "#7201a8"
             ],
             [
              0.3333333333333333,
              "#9c179e"
             ],
             [
              0.4444444444444444,
              "#bd3786"
             ],
             [
              0.5555555555555556,
              "#d8576b"
             ],
             [
              0.6666666666666666,
              "#ed7953"
             ],
             [
              0.7777777777777778,
              "#fb9f3a"
             ],
             [
              0.8888888888888888,
              "#fdca26"
             ],
             [
              1,
              "#f0f921"
             ]
            ],
            "type": "histogram2dcontour"
           }
          ],
          "mesh3d": [
           {
            "colorbar": {
             "outlinewidth": 0,
             "ticks": ""
            },
            "type": "mesh3d"
           }
          ],
          "parcoords": [
           {
            "line": {
             "colorbar": {
              "outlinewidth": 0,
              "ticks": ""
             }
            },
            "type": "parcoords"
           }
          ],
          "pie": [
           {
            "automargin": true,
            "type": "pie"
           }
          ],
          "scatter": [
           {
            "marker": {
             "colorbar": {
              "outlinewidth": 0,
              "ticks": ""
             }
            },
            "type": "scatter"
           }
          ],
          "scatter3d": [
           {
            "line": {
             "colorbar": {
              "outlinewidth": 0,
              "ticks": ""
             }
            },
            "marker": {
             "colorbar": {
              "outlinewidth": 0,
              "ticks": ""
             }
            },
            "type": "scatter3d"
           }
          ],
          "scattercarpet": [
           {
            "marker": {
             "colorbar": {
              "outlinewidth": 0,
              "ticks": ""
             }
            },
            "type": "scattercarpet"
           }
          ],
          "scattergeo": [
           {
            "marker": {
             "colorbar": {
              "outlinewidth": 0,
              "ticks": ""
             }
            },
            "type": "scattergeo"
           }
          ],
          "scattergl": [
           {
            "marker": {
             "colorbar": {
              "outlinewidth": 0,
              "ticks": ""
             }
            },
            "type": "scattergl"
           }
          ],
          "scattermapbox": [
           {
            "marker": {
             "colorbar": {
              "outlinewidth": 0,
              "ticks": ""
             }
            },
            "type": "scattermapbox"
           }
          ],
          "scatterpolar": [
           {
            "marker": {
             "colorbar": {
              "outlinewidth": 0,
              "ticks": ""
             }
            },
            "type": "scatterpolar"
           }
          ],
          "scatterpolargl": [
           {
            "marker": {
             "colorbar": {
              "outlinewidth": 0,
              "ticks": ""
             }
            },
            "type": "scatterpolargl"
           }
          ],
          "scatterternary": [
           {
            "marker": {
             "colorbar": {
              "outlinewidth": 0,
              "ticks": ""
             }
            },
            "type": "scatterternary"
           }
          ],
          "surface": [
           {
            "colorbar": {
             "outlinewidth": 0,
             "ticks": ""
            },
            "colorscale": [
             [
              0,
              "#0d0887"
             ],
             [
              0.1111111111111111,
              "#46039f"
             ],
             [
              0.2222222222222222,
              "#7201a8"
             ],
             [
              0.3333333333333333,
              "#9c179e"
             ],
             [
              0.4444444444444444,
              "#bd3786"
             ],
             [
              0.5555555555555556,
              "#d8576b"
             ],
             [
              0.6666666666666666,
              "#ed7953"
             ],
             [
              0.7777777777777778,
              "#fb9f3a"
             ],
             [
              0.8888888888888888,
              "#fdca26"
             ],
             [
              1,
              "#f0f921"
             ]
            ],
            "type": "surface"
           }
          ],
          "table": [
           {
            "cells": {
             "fill": {
              "color": "#EBF0F8"
             },
             "line": {
              "color": "white"
             }
            },
            "header": {
             "fill": {
              "color": "#C8D4E3"
             },
             "line": {
              "color": "white"
             }
            },
            "type": "table"
           }
          ]
         },
         "layout": {
          "annotationdefaults": {
           "arrowcolor": "#2a3f5f",
           "arrowhead": 0,
           "arrowwidth": 1
          },
          "autotypenumbers": "strict",
          "coloraxis": {
           "colorbar": {
            "outlinewidth": 0,
            "ticks": ""
           }
          },
          "colorscale": {
           "diverging": [
            [
             0,
             "#8e0152"
            ],
            [
             0.1,
             "#c51b7d"
            ],
            [
             0.2,
             "#de77ae"
            ],
            [
             0.3,
             "#f1b6da"
            ],
            [
             0.4,
             "#fde0ef"
            ],
            [
             0.5,
             "#f7f7f7"
            ],
            [
             0.6,
             "#e6f5d0"
            ],
            [
             0.7,
             "#b8e186"
            ],
            [
             0.8,
             "#7fbc41"
            ],
            [
             0.9,
             "#4d9221"
            ],
            [
             1,
             "#276419"
            ]
           ],
           "sequential": [
            [
             0,
             "#0d0887"
            ],
            [
             0.1111111111111111,
             "#46039f"
            ],
            [
             0.2222222222222222,
             "#7201a8"
            ],
            [
             0.3333333333333333,
             "#9c179e"
            ],
            [
             0.4444444444444444,
             "#bd3786"
            ],
            [
             0.5555555555555556,
             "#d8576b"
            ],
            [
             0.6666666666666666,
             "#ed7953"
            ],
            [
             0.7777777777777778,
             "#fb9f3a"
            ],
            [
             0.8888888888888888,
             "#fdca26"
            ],
            [
             1,
             "#f0f921"
            ]
           ],
           "sequentialminus": [
            [
             0,
             "#0d0887"
            ],
            [
             0.1111111111111111,
             "#46039f"
            ],
            [
             0.2222222222222222,
             "#7201a8"
            ],
            [
             0.3333333333333333,
             "#9c179e"
            ],
            [
             0.4444444444444444,
             "#bd3786"
            ],
            [
             0.5555555555555556,
             "#d8576b"
            ],
            [
             0.6666666666666666,
             "#ed7953"
            ],
            [
             0.7777777777777778,
             "#fb9f3a"
            ],
            [
             0.8888888888888888,
             "#fdca26"
            ],
            [
             1,
             "#f0f921"
            ]
           ]
          },
          "colorway": [
           "#636efa",
           "#EF553B",
           "#00cc96",
           "#ab63fa",
           "#FFA15A",
           "#19d3f3",
           "#FF6692",
           "#B6E880",
           "#FF97FF",
           "#FECB52"
          ],
          "font": {
           "color": "#2a3f5f"
          },
          "geo": {
           "bgcolor": "white",
           "lakecolor": "white",
           "landcolor": "#E5ECF6",
           "showlakes": true,
           "showland": true,
           "subunitcolor": "white"
          },
          "hoverlabel": {
           "align": "left"
          },
          "hovermode": "closest",
          "mapbox": {
           "style": "light"
          },
          "paper_bgcolor": "white",
          "plot_bgcolor": "#E5ECF6",
          "polar": {
           "angularaxis": {
            "gridcolor": "white",
            "linecolor": "white",
            "ticks": ""
           },
           "bgcolor": "#E5ECF6",
           "radialaxis": {
            "gridcolor": "white",
            "linecolor": "white",
            "ticks": ""
           }
          },
          "scene": {
           "xaxis": {
            "backgroundcolor": "#E5ECF6",
            "gridcolor": "white",
            "gridwidth": 2,
            "linecolor": "white",
            "showbackground": true,
            "ticks": "",
            "zerolinecolor": "white"
           },
           "yaxis": {
            "backgroundcolor": "#E5ECF6",
            "gridcolor": "white",
            "gridwidth": 2,
            "linecolor": "white",
            "showbackground": true,
            "ticks": "",
            "zerolinecolor": "white"
           },
           "zaxis": {
            "backgroundcolor": "#E5ECF6",
            "gridcolor": "white",
            "gridwidth": 2,
            "linecolor": "white",
            "showbackground": true,
            "ticks": "",
            "zerolinecolor": "white"
           }
          },
          "shapedefaults": {
           "line": {
            "color": "#2a3f5f"
           }
          },
          "ternary": {
           "aaxis": {
            "gridcolor": "white",
            "linecolor": "white",
            "ticks": ""
           },
           "baxis": {
            "gridcolor": "white",
            "linecolor": "white",
            "ticks": ""
           },
           "bgcolor": "#E5ECF6",
           "caxis": {
            "gridcolor": "white",
            "linecolor": "white",
            "ticks": ""
           }
          },
          "title": {
           "x": 0.05
          },
          "xaxis": {
           "automargin": true,
           "gridcolor": "white",
           "linecolor": "white",
           "ticks": "",
           "title": {
            "standoff": 15
           },
           "zerolinecolor": "white",
           "zerolinewidth": 2
          },
          "yaxis": {
           "automargin": true,
           "gridcolor": "white",
           "linecolor": "white",
           "ticks": "",
           "title": {
            "standoff": 15
           },
           "zerolinecolor": "white",
           "zerolinewidth": 2
          }
         }
        },
        "title": {
         "text": "Cantones de mayor longitud total de red vial"
        },
        "xaxis": {
         "anchor": "y",
         "domain": [
          0,
          1
         ],
         "title": {
          "text": "canton"
         }
        },
        "yaxis": {
         "anchor": "x",
         "domain": [
          0,
          1
         ],
         "title": {
          "text": "value"
         }
        }
       }
      },
      "text/html": [
       "<div>                            <div id=\"1571773b-5c9f-4d34-8f99-a24f62cd122c\" class=\"plotly-graph-div\" style=\"height:525px; width:100%;\"></div>            <script type=\"text/javascript\">                require([\"plotly\"], function(Plotly) {                    window.PLOTLYENV=window.PLOTLYENV || {};                                    if (document.getElementById(\"1571773b-5c9f-4d34-8f99-a24f62cd122c\")) {                    Plotly.newPlot(                        \"1571773b-5c9f-4d34-8f99-a24f62cd122c\",                        [{\"alignmentgroup\":\"True\",\"hovertemplate\":\"variable=CAMINO DE TIERRA<br>canton=%{x}<br>value=%{y}<extra></extra>\",\"legendgroup\":\"CAMINO DE TIERRA\",\"marker\":{\"color\":\"#636efa\",\"pattern\":{\"shape\":\"\"}},\"name\":\"CAMINO DE TIERRA\",\"offsetgroup\":\"CAMINO DE TIERRA\",\"orientation\":\"v\",\"showlegend\":true,\"textposition\":\"auto\",\"x\":[\"San Carlos\",\"P\\u00e9rez Zeled\\u00f3n\",\"Puntarenas\",\"Buenos Aires\",\"Sarapiqu\\u00ed\",\"Liberia\",\"Pococ\\u00ed\",\"Nicoya\",\"Santa Cruz\",\"Bagaces\",\"Los Chiles\",\"Upala\",\"Coto Brus\",\"La Cruz\",\"Turrialba\"],\"xaxis\":\"x\",\"y\":[1681.4853438998603,524.6636429653456,930.3539071576344,691.7324806275249,561.1475177631542,751.6908003951178,412.3928957598472,629.493067158883,662.4226966684149,676.1364820955938,433.7293743062103,339.2881575953783,268.98248515870813,535.0939468445307,251.61992433704432],\"yaxis\":\"y\",\"type\":\"bar\"},{\"alignmentgroup\":\"True\",\"hovertemplate\":\"variable=AUTOPISTA<br>canton=%{x}<br>value=%{y}<extra></extra>\",\"legendgroup\":\"AUTOPISTA\",\"marker\":{\"color\":\"#EF553B\",\"pattern\":{\"shape\":\"\"}},\"name\":\"AUTOPISTA\",\"offsetgroup\":\"AUTOPISTA\",\"orientation\":\"v\",\"showlegend\":true,\"textposition\":\"auto\",\"x\":[\"San Carlos\",\"P\\u00e9rez Zeled\\u00f3n\",\"Puntarenas\",\"Buenos Aires\",\"Sarapiqu\\u00ed\",\"Liberia\",\"Pococ\\u00ed\",\"Nicoya\",\"Santa Cruz\",\"Bagaces\",\"Los Chiles\",\"Upala\",\"Coto Brus\",\"La Cruz\",\"Turrialba\"],\"xaxis\":\"x\",\"y\":[null,null,null,null,null,null,null,null,null,null,null,null,null,null,null],\"yaxis\":\"y\",\"type\":\"bar\"},{\"alignmentgroup\":\"True\",\"hovertemplate\":\"variable=CARRETERA PAVIMENTO DOS VIAS O MAS<br>canton=%{x}<br>value=%{y}<extra></extra>\",\"legendgroup\":\"CARRETERA PAVIMENTO DOS VIAS O MAS\",\"marker\":{\"color\":\"#00cc96\",\"pattern\":{\"shape\":\"\"}},\"name\":\"CARRETERA PAVIMENTO DOS VIAS O MAS\",\"offsetgroup\":\"CARRETERA PAVIMENTO DOS VIAS O MAS\",\"orientation\":\"v\",\"showlegend\":true,\"textposition\":\"auto\",\"x\":[\"San Carlos\",\"P\\u00e9rez Zeled\\u00f3n\",\"Puntarenas\",\"Buenos Aires\",\"Sarapiqu\\u00ed\",\"Liberia\",\"Pococ\\u00ed\",\"Nicoya\",\"Santa Cruz\",\"Bagaces\",\"Los Chiles\",\"Upala\",\"Coto Brus\",\"La Cruz\",\"Turrialba\"],\"xaxis\":\"x\",\"y\":[112.4825829443498,316.75037308575486,null,170.93028801282912,110.71756911982554,39.94829800650129,132.56097017967485,20.65773174339661,null,29.012149355902288,114.47186758519726,9.263710333942221,108.75945713094353,46.0756199479687,143.5829245899975],\"yaxis\":\"y\",\"type\":\"bar\"},{\"alignmentgroup\":\"True\",\"hovertemplate\":\"variable=CARRETERA PAVIMENTO UNA VIA<br>canton=%{x}<br>value=%{y}<extra></extra>\",\"legendgroup\":\"CARRETERA PAVIMENTO UNA VIA\",\"marker\":{\"color\":\"#ab63fa\",\"pattern\":{\"shape\":\"\"}},\"name\":\"CARRETERA PAVIMENTO UNA VIA\",\"offsetgroup\":\"CARRETERA PAVIMENTO UNA VIA\",\"orientation\":\"v\",\"showlegend\":true,\"textposition\":\"auto\",\"x\":[\"San Carlos\",\"P\\u00e9rez Zeled\\u00f3n\",\"Puntarenas\",\"Buenos Aires\",\"Sarapiqu\\u00ed\",\"Liberia\",\"Pococ\\u00ed\",\"Nicoya\",\"Santa Cruz\",\"Bagaces\",\"Los Chiles\",\"Upala\",\"Coto Brus\",\"La Cruz\",\"Turrialba\"],\"xaxis\":\"x\",\"y\":[797.0924552214425,573.2280876270825,437.80888681195495,434.4232765234087,431.4883399276307,278.8039229158464,359.4347445966713,332.02756347272987,302.75602847336364,142.3920767928846,228.78653774746738,418.6783927827397,369.56074486207046,128.6656249396207,270.8278688015168],\"yaxis\":\"y\",\"type\":\"bar\"},{\"alignmentgroup\":\"True\",\"hovertemplate\":\"variable=CARRETERA SIN PAVIMENTO DOS VIAS<br>canton=%{x}<br>value=%{y}<extra></extra>\",\"legendgroup\":\"CARRETERA SIN PAVIMENTO DOS VIAS\",\"marker\":{\"color\":\"#FFA15A\",\"pattern\":{\"shape\":\"\"}},\"name\":\"CARRETERA SIN PAVIMENTO DOS VIAS\",\"offsetgroup\":\"CARRETERA SIN PAVIMENTO DOS VIAS\",\"orientation\":\"v\",\"showlegend\":true,\"textposition\":\"auto\",\"x\":[\"San Carlos\",\"P\\u00e9rez Zeled\\u00f3n\",\"Puntarenas\",\"Buenos Aires\",\"Sarapiqu\\u00ed\",\"Liberia\",\"Pococ\\u00ed\",\"Nicoya\",\"Santa Cruz\",\"Bagaces\",\"Los Chiles\",\"Upala\",\"Coto Brus\",\"La Cruz\",\"Turrialba\"],\"xaxis\":\"x\",\"y\":[null,14.918528394852885,null,null,null,null,153.6328917505707,null,null,null,null,2.904216285627675,null,4.303193843929306,22.05383607592845],\"yaxis\":\"y\",\"type\":\"bar\"}],                        {\"template\":{\"data\":{\"bar\":[{\"error_x\":{\"color\":\"#2a3f5f\"},\"error_y\":{\"color\":\"#2a3f5f\"},\"marker\":{\"line\":{\"color\":\"#E5ECF6\",\"width\":0.5},\"pattern\":{\"fillmode\":\"overlay\",\"size\":10,\"solidity\":0.2}},\"type\":\"bar\"}],\"barpolar\":[{\"marker\":{\"line\":{\"color\":\"#E5ECF6\",\"width\":0.5},\"pattern\":{\"fillmode\":\"overlay\",\"size\":10,\"solidity\":0.2}},\"type\":\"barpolar\"}],\"carpet\":[{\"aaxis\":{\"endlinecolor\":\"#2a3f5f\",\"gridcolor\":\"white\",\"linecolor\":\"white\",\"minorgridcolor\":\"white\",\"startlinecolor\":\"#2a3f5f\"},\"baxis\":{\"endlinecolor\":\"#2a3f5f\",\"gridcolor\":\"white\",\"linecolor\":\"white\",\"minorgridcolor\":\"white\",\"startlinecolor\":\"#2a3f5f\"},\"type\":\"carpet\"}],\"choropleth\":[{\"colorbar\":{\"outlinewidth\":0,\"ticks\":\"\"},\"type\":\"choropleth\"}],\"contour\":[{\"colorbar\":{\"outlinewidth\":0,\"ticks\":\"\"},\"colorscale\":[[0.0,\"#0d0887\"],[0.1111111111111111,\"#46039f\"],[0.2222222222222222,\"#7201a8\"],[0.3333333333333333,\"#9c179e\"],[0.4444444444444444,\"#bd3786\"],[0.5555555555555556,\"#d8576b\"],[0.6666666666666666,\"#ed7953\"],[0.7777777777777778,\"#fb9f3a\"],[0.8888888888888888,\"#fdca26\"],[1.0,\"#f0f921\"]],\"type\":\"contour\"}],\"contourcarpet\":[{\"colorbar\":{\"outlinewidth\":0,\"ticks\":\"\"},\"type\":\"contourcarpet\"}],\"heatmap\":[{\"colorbar\":{\"outlinewidth\":0,\"ticks\":\"\"},\"colorscale\":[[0.0,\"#0d0887\"],[0.1111111111111111,\"#46039f\"],[0.2222222222222222,\"#7201a8\"],[0.3333333333333333,\"#9c179e\"],[0.4444444444444444,\"#bd3786\"],[0.5555555555555556,\"#d8576b\"],[0.6666666666666666,\"#ed7953\"],[0.7777777777777778,\"#fb9f3a\"],[0.8888888888888888,\"#fdca26\"],[1.0,\"#f0f921\"]],\"type\":\"heatmap\"}],\"heatmapgl\":[{\"colorbar\":{\"outlinewidth\":0,\"ticks\":\"\"},\"colorscale\":[[0.0,\"#0d0887\"],[0.1111111111111111,\"#46039f\"],[0.2222222222222222,\"#7201a8\"],[0.3333333333333333,\"#9c179e\"],[0.4444444444444444,\"#bd3786\"],[0.5555555555555556,\"#d8576b\"],[0.6666666666666666,\"#ed7953\"],[0.7777777777777778,\"#fb9f3a\"],[0.8888888888888888,\"#fdca26\"],[1.0,\"#f0f921\"]],\"type\":\"heatmapgl\"}],\"histogram\":[{\"marker\":{\"pattern\":{\"fillmode\":\"overlay\",\"size\":10,\"solidity\":0.2}},\"type\":\"histogram\"}],\"histogram2d\":[{\"colorbar\":{\"outlinewidth\":0,\"ticks\":\"\"},\"colorscale\":[[0.0,\"#0d0887\"],[0.1111111111111111,\"#46039f\"],[0.2222222222222222,\"#7201a8\"],[0.3333333333333333,\"#9c179e\"],[0.4444444444444444,\"#bd3786\"],[0.5555555555555556,\"#d8576b\"],[0.6666666666666666,\"#ed7953\"],[0.7777777777777778,\"#fb9f3a\"],[0.8888888888888888,\"#fdca26\"],[1.0,\"#f0f921\"]],\"type\":\"histogram2d\"}],\"histogram2dcontour\":[{\"colorbar\":{\"outlinewidth\":0,\"ticks\":\"\"},\"colorscale\":[[0.0,\"#0d0887\"],[0.1111111111111111,\"#46039f\"],[0.2222222222222222,\"#7201a8\"],[0.3333333333333333,\"#9c179e\"],[0.4444444444444444,\"#bd3786\"],[0.5555555555555556,\"#d8576b\"],[0.6666666666666666,\"#ed7953\"],[0.7777777777777778,\"#fb9f3a\"],[0.8888888888888888,\"#fdca26\"],[1.0,\"#f0f921\"]],\"type\":\"histogram2dcontour\"}],\"mesh3d\":[{\"colorbar\":{\"outlinewidth\":0,\"ticks\":\"\"},\"type\":\"mesh3d\"}],\"parcoords\":[{\"line\":{\"colorbar\":{\"outlinewidth\":0,\"ticks\":\"\"}},\"type\":\"parcoords\"}],\"pie\":[{\"automargin\":true,\"type\":\"pie\"}],\"scatter\":[{\"marker\":{\"colorbar\":{\"outlinewidth\":0,\"ticks\":\"\"}},\"type\":\"scatter\"}],\"scatter3d\":[{\"line\":{\"colorbar\":{\"outlinewidth\":0,\"ticks\":\"\"}},\"marker\":{\"colorbar\":{\"outlinewidth\":0,\"ticks\":\"\"}},\"type\":\"scatter3d\"}],\"scattercarpet\":[{\"marker\":{\"colorbar\":{\"outlinewidth\":0,\"ticks\":\"\"}},\"type\":\"scattercarpet\"}],\"scattergeo\":[{\"marker\":{\"colorbar\":{\"outlinewidth\":0,\"ticks\":\"\"}},\"type\":\"scattergeo\"}],\"scattergl\":[{\"marker\":{\"colorbar\":{\"outlinewidth\":0,\"ticks\":\"\"}},\"type\":\"scattergl\"}],\"scattermapbox\":[{\"marker\":{\"colorbar\":{\"outlinewidth\":0,\"ticks\":\"\"}},\"type\":\"scattermapbox\"}],\"scatterpolar\":[{\"marker\":{\"colorbar\":{\"outlinewidth\":0,\"ticks\":\"\"}},\"type\":\"scatterpolar\"}],\"scatterpolargl\":[{\"marker\":{\"colorbar\":{\"outlinewidth\":0,\"ticks\":\"\"}},\"type\":\"scatterpolargl\"}],\"scatterternary\":[{\"marker\":{\"colorbar\":{\"outlinewidth\":0,\"ticks\":\"\"}},\"type\":\"scatterternary\"}],\"surface\":[{\"colorbar\":{\"outlinewidth\":0,\"ticks\":\"\"},\"colorscale\":[[0.0,\"#0d0887\"],[0.1111111111111111,\"#46039f\"],[0.2222222222222222,\"#7201a8\"],[0.3333333333333333,\"#9c179e\"],[0.4444444444444444,\"#bd3786\"],[0.5555555555555556,\"#d8576b\"],[0.6666666666666666,\"#ed7953\"],[0.7777777777777778,\"#fb9f3a\"],[0.8888888888888888,\"#fdca26\"],[1.0,\"#f0f921\"]],\"type\":\"surface\"}],\"table\":[{\"cells\":{\"fill\":{\"color\":\"#EBF0F8\"},\"line\":{\"color\":\"white\"}},\"header\":{\"fill\":{\"color\":\"#C8D4E3\"},\"line\":{\"color\":\"white\"}},\"type\":\"table\"}]},\"layout\":{\"annotationdefaults\":{\"arrowcolor\":\"#2a3f5f\",\"arrowhead\":0,\"arrowwidth\":1},\"autotypenumbers\":\"strict\",\"coloraxis\":{\"colorbar\":{\"outlinewidth\":0,\"ticks\":\"\"}},\"colorscale\":{\"diverging\":[[0,\"#8e0152\"],[0.1,\"#c51b7d\"],[0.2,\"#de77ae\"],[0.3,\"#f1b6da\"],[0.4,\"#fde0ef\"],[0.5,\"#f7f7f7\"],[0.6,\"#e6f5d0\"],[0.7,\"#b8e186\"],[0.8,\"#7fbc41\"],[0.9,\"#4d9221\"],[1,\"#276419\"]],\"sequential\":[[0.0,\"#0d0887\"],[0.1111111111111111,\"#46039f\"],[0.2222222222222222,\"#7201a8\"],[0.3333333333333333,\"#9c179e\"],[0.4444444444444444,\"#bd3786\"],[0.5555555555555556,\"#d8576b\"],[0.6666666666666666,\"#ed7953\"],[0.7777777777777778,\"#fb9f3a\"],[0.8888888888888888,\"#fdca26\"],[1.0,\"#f0f921\"]],\"sequentialminus\":[[0.0,\"#0d0887\"],[0.1111111111111111,\"#46039f\"],[0.2222222222222222,\"#7201a8\"],[0.3333333333333333,\"#9c179e\"],[0.4444444444444444,\"#bd3786\"],[0.5555555555555556,\"#d8576b\"],[0.6666666666666666,\"#ed7953\"],[0.7777777777777778,\"#fb9f3a\"],[0.8888888888888888,\"#fdca26\"],[1.0,\"#f0f921\"]]},\"colorway\":[\"#636efa\",\"#EF553B\",\"#00cc96\",\"#ab63fa\",\"#FFA15A\",\"#19d3f3\",\"#FF6692\",\"#B6E880\",\"#FF97FF\",\"#FECB52\"],\"font\":{\"color\":\"#2a3f5f\"},\"geo\":{\"bgcolor\":\"white\",\"lakecolor\":\"white\",\"landcolor\":\"#E5ECF6\",\"showlakes\":true,\"showland\":true,\"subunitcolor\":\"white\"},\"hoverlabel\":{\"align\":\"left\"},\"hovermode\":\"closest\",\"mapbox\":{\"style\":\"light\"},\"paper_bgcolor\":\"white\",\"plot_bgcolor\":\"#E5ECF6\",\"polar\":{\"angularaxis\":{\"gridcolor\":\"white\",\"linecolor\":\"white\",\"ticks\":\"\"},\"bgcolor\":\"#E5ECF6\",\"radialaxis\":{\"gridcolor\":\"white\",\"linecolor\":\"white\",\"ticks\":\"\"}},\"scene\":{\"xaxis\":{\"backgroundcolor\":\"#E5ECF6\",\"gridcolor\":\"white\",\"gridwidth\":2,\"linecolor\":\"white\",\"showbackground\":true,\"ticks\":\"\",\"zerolinecolor\":\"white\"},\"yaxis\":{\"backgroundcolor\":\"#E5ECF6\",\"gridcolor\":\"white\",\"gridwidth\":2,\"linecolor\":\"white\",\"showbackground\":true,\"ticks\":\"\",\"zerolinecolor\":\"white\"},\"zaxis\":{\"backgroundcolor\":\"#E5ECF6\",\"gridcolor\":\"white\",\"gridwidth\":2,\"linecolor\":\"white\",\"showbackground\":true,\"ticks\":\"\",\"zerolinecolor\":\"white\"}},\"shapedefaults\":{\"line\":{\"color\":\"#2a3f5f\"}},\"ternary\":{\"aaxis\":{\"gridcolor\":\"white\",\"linecolor\":\"white\",\"ticks\":\"\"},\"baxis\":{\"gridcolor\":\"white\",\"linecolor\":\"white\",\"ticks\":\"\"},\"bgcolor\":\"#E5ECF6\",\"caxis\":{\"gridcolor\":\"white\",\"linecolor\":\"white\",\"ticks\":\"\"}},\"title\":{\"x\":0.05},\"xaxis\":{\"automargin\":true,\"gridcolor\":\"white\",\"linecolor\":\"white\",\"ticks\":\"\",\"title\":{\"standoff\":15},\"zerolinecolor\":\"white\",\"zerolinewidth\":2},\"yaxis\":{\"automargin\":true,\"gridcolor\":\"white\",\"linecolor\":\"white\",\"ticks\":\"\",\"title\":{\"standoff\":15},\"zerolinecolor\":\"white\",\"zerolinewidth\":2}}},\"xaxis\":{\"anchor\":\"y\",\"domain\":[0.0,1.0],\"title\":{\"text\":\"canton\"}},\"yaxis\":{\"anchor\":\"x\",\"domain\":[0.0,1.0],\"title\":{\"text\":\"value\"}},\"legend\":{\"title\":{\"text\":\"variable\"},\"tracegroupgap\":0},\"title\":{\"text\":\"Cantones de mayor longitud total de red vial\"},\"barmode\":\"relative\"},                        {\"responsive\": true}                    ).then(function(){\n",
       "                            \n",
       "var gd = document.getElementById('1571773b-5c9f-4d34-8f99-a24f62cd122c');\n",
       "var x = new MutationObserver(function (mutations, observer) {{\n",
       "        var display = window.getComputedStyle(gd).display;\n",
       "        if (!display || display === 'none') {{\n",
       "            console.log([gd, 'removed!']);\n",
       "            Plotly.purge(gd);\n",
       "            observer.disconnect();\n",
       "        }}\n",
       "}});\n",
       "\n",
       "// Listen for the removal of the full notebook cells\n",
       "var notebookContainer = gd.closest('#notebook-container');\n",
       "if (notebookContainer) {{\n",
       "    x.observe(notebookContainer, {childList: true});\n",
       "}}\n",
       "\n",
       "// Listen for the clearing of the current output cell\n",
       "var outputEl = gd.closest('.output');\n",
       "if (outputEl) {{\n",
       "    x.observe(outputEl, {childList: true});\n",
       "}}\n",
       "\n",
       "                        })                };                });            </script>        </div>"
      ]
     },
     "metadata": {},
     "output_type": "display_data"
    }
   ],
   "source": [
    "#Extraer las 15 cantones de mayor longitud total de red vial\n",
    "# Dataframe filtrado para usar en graficación\n",
    "longitud_grafico = redvial_x_canton_agrupados[['canton', 'longitud','CAMINO DE TIERRA','AUTOPISTA',\n",
    "                                                'CARRETERA PAVIMENTO DOS VIAS O MAS',\n",
    "                                                'CARRETERA PAVIMENTO UNA VIA',\n",
    "                                                'CARRETERA SIN PAVIMENTO DOS VIAS'\n",
    "                                              ]].sort_values(\"longitud\", ascending=[False]).head(15)\n",
    "#Gráfico plotly de barras apiladas \n",
    "fig = px.bar(longitud_grafico, x=\"canton\", y=['CAMINO DE TIERRA','AUTOPISTA',\n",
    "                                                'CARRETERA PAVIMENTO DOS VIAS O MAS',\n",
    "                                                'CARRETERA PAVIMENTO UNA VIA',\n",
    "                                                'CARRETERA SIN PAVIMENTO DOS VIAS'\n",
    "                                             ], title=\"Cantones de mayor longitud total de red vial\")\n",
    "fig.show()"
   ]
  },
  {
   "cell_type": "markdown",
   "id": "1c31454d",
   "metadata": {},
   "source": [
    "## Gráfico plotly de pastel \n",
    "\n",
    "Porcentaje de red vial de los 15 cantones de mayor longitud total de la red vial, con respecto a la longitud de la red vial en todo el país.\n",
    "La porción (slice) adicional en el gráfico de pastel llamada “Otros cantones”, correspondiente al porcentaje de la suma de la red vial en los 67 cantones restantes.\""
   ]
  },
  {
   "cell_type": "code",
   "execution_count": 32,
   "id": "dcca8e67",
   "metadata": {},
   "outputs": [
    {
     "data": {
      "application/vnd.plotly.v1+json": {
       "config": {
        "plotlyServerURL": "https://plot.ly"
       },
       "data": [
        {
         "domain": {
          "x": [
           0,
           1
          ],
          "y": [
           0,
           1
          ]
         },
         "hovertemplate": "canton=%{label}<br>longitud=%{value}<extra></extra>",
         "labels": [
          "San Carlos",
          "Pérez Zeledón",
          "Puntarenas",
          "Buenos Aires",
          "Sarapiquí",
          "Liberia",
          "Pococí",
          "Nicoya",
          "Santa Cruz",
          "Bagaces",
          "Los Chiles",
          "Upala",
          "Coto Brus",
          "La Cruz",
          "Turrialba",
          "Otros cantones",
          "Otros cantones",
          "Otros cantones",
          "Otros cantones",
          "Otros cantones",
          "Otros cantones",
          "Otros cantones",
          "Otros cantones",
          "Otros cantones",
          "Otros cantones",
          "Otros cantones",
          "Otros cantones",
          "Otros cantones",
          "Otros cantones",
          "Otros cantones",
          "Otros cantones",
          "Otros cantones",
          "Otros cantones",
          "Otros cantones",
          "Otros cantones",
          "Otros cantones",
          "Otros cantones",
          "Otros cantones",
          "Otros cantones",
          "Otros cantones",
          "Otros cantones",
          "Otros cantones",
          "Otros cantones",
          "Otros cantones",
          "Otros cantones",
          "Otros cantones",
          "Otros cantones",
          "Otros cantones",
          "Otros cantones",
          "Otros cantones",
          "Otros cantones",
          "Otros cantones",
          "Otros cantones",
          "Otros cantones",
          "Otros cantones",
          "Otros cantones",
          "Otros cantones",
          "Otros cantones",
          "Otros cantones",
          "Otros cantones",
          "Otros cantones",
          "Otros cantones",
          "Otros cantones",
          "Otros cantones",
          "Otros cantones",
          "Otros cantones",
          "Otros cantones",
          "Otros cantones",
          "Otros cantones",
          "Otros cantones",
          "Otros cantones",
          "Otros cantones",
          "Otros cantones",
          "Otros cantones",
          "Otros cantones",
          "Otros cantones",
          "Otros cantones",
          "Otros cantones",
          "Otros cantones",
          "Otros cantones",
          "Otros cantones",
          "Otros cantones"
         ],
         "legendgroup": "",
         "name": "",
         "showlegend": true,
         "type": "pie",
         "values": [
          2591.0603820656524,
          1429.560632073036,
          1368.1627939695893,
          1297.0860451637627,
          1103.3534268106105,
          1070.4430213174655,
          1058.0215022867642,
          982.1783623750096,
          965.1787251417786,
          847.5407082443807,
          776.9877796388749,
          770.1344769976879,
          747.3026871517221,
          714.1383855760494,
          688.084553804487,
          678.8988925650841,
          646.2510859449795,
          602.6804356307815,
          589.6685631280394,
          526.3232786928153,
          515.8651607109507,
          502.2461175235095,
          497.2968681531409,
          495.8243217580492,
          489.7899951258811,
          458.00886598994884,
          455.8085333194571,
          448.8434045473592,
          399.11544832400824,
          394.59087867976683,
          339.89004373719166,
          328.3250452659486,
          318.5117339733036,
          308.73056845411384,
          306.54668885634624,
          306.47000288557285,
          295.7299522267939,
          280.8473058473618,
          276.2160588002896,
          248.3735009748621,
          239.63396142477916,
          238.2541459117736,
          234.30731013940743,
          225.703311646783,
          221.7099247040304,
          216.78212122823345,
          211.6870572024186,
          204.14490253272896,
          200.36527628546287,
          196.32831634620794,
          192.9597238801198,
          181.72237457141728,
          162.38830314565635,
          151.17451893445514,
          147.6826702844709,
          145.44369672424625,
          143.3851042042534,
          123.56177508021437,
          117.1912850504358,
          114.6800494947723,
          107.67082109519669,
          100.81376067609133,
          94.83108009631533,
          86.8661592892095,
          86.43525615822463,
          81.25200982266026,
          72.33714376181308,
          70.80449419274495,
          68.49487898379122,
          68.10592349388318,
          62.93525943610142,
          54.73389812881976,
          43.45448007627069,
          42.515613609853645,
          38.89511814263088,
          33.189210935020995,
          26.145623240876137,
          23.176612973286655,
          20.228056244471325,
          16.408718762933397,
          15.105107476145768,
          11.004351519832788
         ]
        }
       ],
       "layout": {
        "legend": {
         "tracegroupgap": 0
        },
        "template": {
         "data": {
          "bar": [
           {
            "error_x": {
             "color": "#2a3f5f"
            },
            "error_y": {
             "color": "#2a3f5f"
            },
            "marker": {
             "line": {
              "color": "#E5ECF6",
              "width": 0.5
             },
             "pattern": {
              "fillmode": "overlay",
              "size": 10,
              "solidity": 0.2
             }
            },
            "type": "bar"
           }
          ],
          "barpolar": [
           {
            "marker": {
             "line": {
              "color": "#E5ECF6",
              "width": 0.5
             },
             "pattern": {
              "fillmode": "overlay",
              "size": 10,
              "solidity": 0.2
             }
            },
            "type": "barpolar"
           }
          ],
          "carpet": [
           {
            "aaxis": {
             "endlinecolor": "#2a3f5f",
             "gridcolor": "white",
             "linecolor": "white",
             "minorgridcolor": "white",
             "startlinecolor": "#2a3f5f"
            },
            "baxis": {
             "endlinecolor": "#2a3f5f",
             "gridcolor": "white",
             "linecolor": "white",
             "minorgridcolor": "white",
             "startlinecolor": "#2a3f5f"
            },
            "type": "carpet"
           }
          ],
          "choropleth": [
           {
            "colorbar": {
             "outlinewidth": 0,
             "ticks": ""
            },
            "type": "choropleth"
           }
          ],
          "contour": [
           {
            "colorbar": {
             "outlinewidth": 0,
             "ticks": ""
            },
            "colorscale": [
             [
              0,
              "#0d0887"
             ],
             [
              0.1111111111111111,
              "#46039f"
             ],
             [
              0.2222222222222222,
              "#7201a8"
             ],
             [
              0.3333333333333333,
              "#9c179e"
             ],
             [
              0.4444444444444444,
              "#bd3786"
             ],
             [
              0.5555555555555556,
              "#d8576b"
             ],
             [
              0.6666666666666666,
              "#ed7953"
             ],
             [
              0.7777777777777778,
              "#fb9f3a"
             ],
             [
              0.8888888888888888,
              "#fdca26"
             ],
             [
              1,
              "#f0f921"
             ]
            ],
            "type": "contour"
           }
          ],
          "contourcarpet": [
           {
            "colorbar": {
             "outlinewidth": 0,
             "ticks": ""
            },
            "type": "contourcarpet"
           }
          ],
          "heatmap": [
           {
            "colorbar": {
             "outlinewidth": 0,
             "ticks": ""
            },
            "colorscale": [
             [
              0,
              "#0d0887"
             ],
             [
              0.1111111111111111,
              "#46039f"
             ],
             [
              0.2222222222222222,
              "#7201a8"
             ],
             [
              0.3333333333333333,
              "#9c179e"
             ],
             [
              0.4444444444444444,
              "#bd3786"
             ],
             [
              0.5555555555555556,
              "#d8576b"
             ],
             [
              0.6666666666666666,
              "#ed7953"
             ],
             [
              0.7777777777777778,
              "#fb9f3a"
             ],
             [
              0.8888888888888888,
              "#fdca26"
             ],
             [
              1,
              "#f0f921"
             ]
            ],
            "type": "heatmap"
           }
          ],
          "heatmapgl": [
           {
            "colorbar": {
             "outlinewidth": 0,
             "ticks": ""
            },
            "colorscale": [
             [
              0,
              "#0d0887"
             ],
             [
              0.1111111111111111,
              "#46039f"
             ],
             [
              0.2222222222222222,
              "#7201a8"
             ],
             [
              0.3333333333333333,
              "#9c179e"
             ],
             [
              0.4444444444444444,
              "#bd3786"
             ],
             [
              0.5555555555555556,
              "#d8576b"
             ],
             [
              0.6666666666666666,
              "#ed7953"
             ],
             [
              0.7777777777777778,
              "#fb9f3a"
             ],
             [
              0.8888888888888888,
              "#fdca26"
             ],
             [
              1,
              "#f0f921"
             ]
            ],
            "type": "heatmapgl"
           }
          ],
          "histogram": [
           {
            "marker": {
             "pattern": {
              "fillmode": "overlay",
              "size": 10,
              "solidity": 0.2
             }
            },
            "type": "histogram"
           }
          ],
          "histogram2d": [
           {
            "colorbar": {
             "outlinewidth": 0,
             "ticks": ""
            },
            "colorscale": [
             [
              0,
              "#0d0887"
             ],
             [
              0.1111111111111111,
              "#46039f"
             ],
             [
              0.2222222222222222,
              "#7201a8"
             ],
             [
              0.3333333333333333,
              "#9c179e"
             ],
             [
              0.4444444444444444,
              "#bd3786"
             ],
             [
              0.5555555555555556,
              "#d8576b"
             ],
             [
              0.6666666666666666,
              "#ed7953"
             ],
             [
              0.7777777777777778,
              "#fb9f3a"
             ],
             [
              0.8888888888888888,
              "#fdca26"
             ],
             [
              1,
              "#f0f921"
             ]
            ],
            "type": "histogram2d"
           }
          ],
          "histogram2dcontour": [
           {
            "colorbar": {
             "outlinewidth": 0,
             "ticks": ""
            },
            "colorscale": [
             [
              0,
              "#0d0887"
             ],
             [
              0.1111111111111111,
              "#46039f"
             ],
             [
              0.2222222222222222,
              "#7201a8"
             ],
             [
              0.3333333333333333,
              "#9c179e"
             ],
             [
              0.4444444444444444,
              "#bd3786"
             ],
             [
              0.5555555555555556,
              "#d8576b"
             ],
             [
              0.6666666666666666,
              "#ed7953"
             ],
             [
              0.7777777777777778,
              "#fb9f3a"
             ],
             [
              0.8888888888888888,
              "#fdca26"
             ],
             [
              1,
              "#f0f921"
             ]
            ],
            "type": "histogram2dcontour"
           }
          ],
          "mesh3d": [
           {
            "colorbar": {
             "outlinewidth": 0,
             "ticks": ""
            },
            "type": "mesh3d"
           }
          ],
          "parcoords": [
           {
            "line": {
             "colorbar": {
              "outlinewidth": 0,
              "ticks": ""
             }
            },
            "type": "parcoords"
           }
          ],
          "pie": [
           {
            "automargin": true,
            "type": "pie"
           }
          ],
          "scatter": [
           {
            "marker": {
             "colorbar": {
              "outlinewidth": 0,
              "ticks": ""
             }
            },
            "type": "scatter"
           }
          ],
          "scatter3d": [
           {
            "line": {
             "colorbar": {
              "outlinewidth": 0,
              "ticks": ""
             }
            },
            "marker": {
             "colorbar": {
              "outlinewidth": 0,
              "ticks": ""
             }
            },
            "type": "scatter3d"
           }
          ],
          "scattercarpet": [
           {
            "marker": {
             "colorbar": {
              "outlinewidth": 0,
              "ticks": ""
             }
            },
            "type": "scattercarpet"
           }
          ],
          "scattergeo": [
           {
            "marker": {
             "colorbar": {
              "outlinewidth": 0,
              "ticks": ""
             }
            },
            "type": "scattergeo"
           }
          ],
          "scattergl": [
           {
            "marker": {
             "colorbar": {
              "outlinewidth": 0,
              "ticks": ""
             }
            },
            "type": "scattergl"
           }
          ],
          "scattermapbox": [
           {
            "marker": {
             "colorbar": {
              "outlinewidth": 0,
              "ticks": ""
             }
            },
            "type": "scattermapbox"
           }
          ],
          "scatterpolar": [
           {
            "marker": {
             "colorbar": {
              "outlinewidth": 0,
              "ticks": ""
             }
            },
            "type": "scatterpolar"
           }
          ],
          "scatterpolargl": [
           {
            "marker": {
             "colorbar": {
              "outlinewidth": 0,
              "ticks": ""
             }
            },
            "type": "scatterpolargl"
           }
          ],
          "scatterternary": [
           {
            "marker": {
             "colorbar": {
              "outlinewidth": 0,
              "ticks": ""
             }
            },
            "type": "scatterternary"
           }
          ],
          "surface": [
           {
            "colorbar": {
             "outlinewidth": 0,
             "ticks": ""
            },
            "colorscale": [
             [
              0,
              "#0d0887"
             ],
             [
              0.1111111111111111,
              "#46039f"
             ],
             [
              0.2222222222222222,
              "#7201a8"
             ],
             [
              0.3333333333333333,
              "#9c179e"
             ],
             [
              0.4444444444444444,
              "#bd3786"
             ],
             [
              0.5555555555555556,
              "#d8576b"
             ],
             [
              0.6666666666666666,
              "#ed7953"
             ],
             [
              0.7777777777777778,
              "#fb9f3a"
             ],
             [
              0.8888888888888888,
              "#fdca26"
             ],
             [
              1,
              "#f0f921"
             ]
            ],
            "type": "surface"
           }
          ],
          "table": [
           {
            "cells": {
             "fill": {
              "color": "#EBF0F8"
             },
             "line": {
              "color": "white"
             }
            },
            "header": {
             "fill": {
              "color": "#C8D4E3"
             },
             "line": {
              "color": "white"
             }
            },
            "type": "table"
           }
          ]
         },
         "layout": {
          "annotationdefaults": {
           "arrowcolor": "#2a3f5f",
           "arrowhead": 0,
           "arrowwidth": 1
          },
          "autotypenumbers": "strict",
          "coloraxis": {
           "colorbar": {
            "outlinewidth": 0,
            "ticks": ""
           }
          },
          "colorscale": {
           "diverging": [
            [
             0,
             "#8e0152"
            ],
            [
             0.1,
             "#c51b7d"
            ],
            [
             0.2,
             "#de77ae"
            ],
            [
             0.3,
             "#f1b6da"
            ],
            [
             0.4,
             "#fde0ef"
            ],
            [
             0.5,
             "#f7f7f7"
            ],
            [
             0.6,
             "#e6f5d0"
            ],
            [
             0.7,
             "#b8e186"
            ],
            [
             0.8,
             "#7fbc41"
            ],
            [
             0.9,
             "#4d9221"
            ],
            [
             1,
             "#276419"
            ]
           ],
           "sequential": [
            [
             0,
             "#0d0887"
            ],
            [
             0.1111111111111111,
             "#46039f"
            ],
            [
             0.2222222222222222,
             "#7201a8"
            ],
            [
             0.3333333333333333,
             "#9c179e"
            ],
            [
             0.4444444444444444,
             "#bd3786"
            ],
            [
             0.5555555555555556,
             "#d8576b"
            ],
            [
             0.6666666666666666,
             "#ed7953"
            ],
            [
             0.7777777777777778,
             "#fb9f3a"
            ],
            [
             0.8888888888888888,
             "#fdca26"
            ],
            [
             1,
             "#f0f921"
            ]
           ],
           "sequentialminus": [
            [
             0,
             "#0d0887"
            ],
            [
             0.1111111111111111,
             "#46039f"
            ],
            [
             0.2222222222222222,
             "#7201a8"
            ],
            [
             0.3333333333333333,
             "#9c179e"
            ],
            [
             0.4444444444444444,
             "#bd3786"
            ],
            [
             0.5555555555555556,
             "#d8576b"
            ],
            [
             0.6666666666666666,
             "#ed7953"
            ],
            [
             0.7777777777777778,
             "#fb9f3a"
            ],
            [
             0.8888888888888888,
             "#fdca26"
            ],
            [
             1,
             "#f0f921"
            ]
           ]
          },
          "colorway": [
           "#636efa",
           "#EF553B",
           "#00cc96",
           "#ab63fa",
           "#FFA15A",
           "#19d3f3",
           "#FF6692",
           "#B6E880",
           "#FF97FF",
           "#FECB52"
          ],
          "font": {
           "color": "#2a3f5f"
          },
          "geo": {
           "bgcolor": "white",
           "lakecolor": "white",
           "landcolor": "#E5ECF6",
           "showlakes": true,
           "showland": true,
           "subunitcolor": "white"
          },
          "hoverlabel": {
           "align": "left"
          },
          "hovermode": "closest",
          "mapbox": {
           "style": "light"
          },
          "paper_bgcolor": "white",
          "plot_bgcolor": "#E5ECF6",
          "polar": {
           "angularaxis": {
            "gridcolor": "white",
            "linecolor": "white",
            "ticks": ""
           },
           "bgcolor": "#E5ECF6",
           "radialaxis": {
            "gridcolor": "white",
            "linecolor": "white",
            "ticks": ""
           }
          },
          "scene": {
           "xaxis": {
            "backgroundcolor": "#E5ECF6",
            "gridcolor": "white",
            "gridwidth": 2,
            "linecolor": "white",
            "showbackground": true,
            "ticks": "",
            "zerolinecolor": "white"
           },
           "yaxis": {
            "backgroundcolor": "#E5ECF6",
            "gridcolor": "white",
            "gridwidth": 2,
            "linecolor": "white",
            "showbackground": true,
            "ticks": "",
            "zerolinecolor": "white"
           },
           "zaxis": {
            "backgroundcolor": "#E5ECF6",
            "gridcolor": "white",
            "gridwidth": 2,
            "linecolor": "white",
            "showbackground": true,
            "ticks": "",
            "zerolinecolor": "white"
           }
          },
          "shapedefaults": {
           "line": {
            "color": "#2a3f5f"
           }
          },
          "ternary": {
           "aaxis": {
            "gridcolor": "white",
            "linecolor": "white",
            "ticks": ""
           },
           "baxis": {
            "gridcolor": "white",
            "linecolor": "white",
            "ticks": ""
           },
           "bgcolor": "#E5ECF6",
           "caxis": {
            "gridcolor": "white",
            "linecolor": "white",
            "ticks": ""
           }
          },
          "title": {
           "x": 0.05
          },
          "xaxis": {
           "automargin": true,
           "gridcolor": "white",
           "linecolor": "white",
           "ticks": "",
           "title": {
            "standoff": 15
           },
           "zerolinecolor": "white",
           "zerolinewidth": 2
          },
          "yaxis": {
           "automargin": true,
           "gridcolor": "white",
           "linecolor": "white",
           "ticks": "",
           "title": {
            "standoff": 15
           },
           "zerolinecolor": "white",
           "zerolinewidth": 2
          }
         }
        },
        "title": {
         "text": "Porcentaje de los 15 cantones de mayor longitud total de la red vial en el país"
        }
       }
      },
      "text/html": [
       "<div>                            <div id=\"ab18d0f2-0822-4e6b-a8ec-4eb337d74147\" class=\"plotly-graph-div\" style=\"height:525px; width:100%;\"></div>            <script type=\"text/javascript\">                require([\"plotly\"], function(Plotly) {                    window.PLOTLYENV=window.PLOTLYENV || {};                                    if (document.getElementById(\"ab18d0f2-0822-4e6b-a8ec-4eb337d74147\")) {                    Plotly.newPlot(                        \"ab18d0f2-0822-4e6b-a8ec-4eb337d74147\",                        [{\"domain\":{\"x\":[0.0,1.0],\"y\":[0.0,1.0]},\"hovertemplate\":\"canton=%{label}<br>longitud=%{value}<extra></extra>\",\"labels\":[\"San Carlos\",\"P\\u00e9rez Zeled\\u00f3n\",\"Puntarenas\",\"Buenos Aires\",\"Sarapiqu\\u00ed\",\"Liberia\",\"Pococ\\u00ed\",\"Nicoya\",\"Santa Cruz\",\"Bagaces\",\"Los Chiles\",\"Upala\",\"Coto Brus\",\"La Cruz\",\"Turrialba\",\"Otros cantones\",\"Otros cantones\",\"Otros cantones\",\"Otros cantones\",\"Otros cantones\",\"Otros cantones\",\"Otros cantones\",\"Otros cantones\",\"Otros cantones\",\"Otros cantones\",\"Otros cantones\",\"Otros cantones\",\"Otros cantones\",\"Otros cantones\",\"Otros cantones\",\"Otros cantones\",\"Otros cantones\",\"Otros cantones\",\"Otros cantones\",\"Otros cantones\",\"Otros cantones\",\"Otros cantones\",\"Otros cantones\",\"Otros cantones\",\"Otros cantones\",\"Otros cantones\",\"Otros cantones\",\"Otros cantones\",\"Otros cantones\",\"Otros cantones\",\"Otros cantones\",\"Otros cantones\",\"Otros cantones\",\"Otros cantones\",\"Otros cantones\",\"Otros cantones\",\"Otros cantones\",\"Otros cantones\",\"Otros cantones\",\"Otros cantones\",\"Otros cantones\",\"Otros cantones\",\"Otros cantones\",\"Otros cantones\",\"Otros cantones\",\"Otros cantones\",\"Otros cantones\",\"Otros cantones\",\"Otros cantones\",\"Otros cantones\",\"Otros cantones\",\"Otros cantones\",\"Otros cantones\",\"Otros cantones\",\"Otros cantones\",\"Otros cantones\",\"Otros cantones\",\"Otros cantones\",\"Otros cantones\",\"Otros cantones\",\"Otros cantones\",\"Otros cantones\",\"Otros cantones\",\"Otros cantones\",\"Otros cantones\",\"Otros cantones\",\"Otros cantones\"],\"legendgroup\":\"\",\"name\":\"\",\"showlegend\":true,\"values\":[2591.0603820656524,1429.560632073036,1368.1627939695893,1297.0860451637627,1103.3534268106105,1070.4430213174655,1058.0215022867642,982.1783623750096,965.1787251417786,847.5407082443807,776.9877796388749,770.1344769976879,747.3026871517221,714.1383855760494,688.084553804487,678.8988925650841,646.2510859449795,602.6804356307815,589.6685631280394,526.3232786928153,515.8651607109507,502.2461175235095,497.2968681531409,495.8243217580492,489.7899951258811,458.00886598994884,455.8085333194571,448.8434045473592,399.11544832400824,394.59087867976683,339.89004373719166,328.3250452659486,318.5117339733036,308.73056845411384,306.54668885634624,306.47000288557285,295.7299522267939,280.8473058473618,276.2160588002896,248.3735009748621,239.63396142477916,238.2541459117736,234.30731013940743,225.703311646783,221.7099247040304,216.78212122823345,211.6870572024186,204.14490253272896,200.36527628546287,196.32831634620794,192.9597238801198,181.72237457141728,162.38830314565635,151.17451893445514,147.6826702844709,145.44369672424625,143.3851042042534,123.56177508021437,117.1912850504358,114.6800494947723,107.67082109519669,100.81376067609133,94.83108009631533,86.8661592892095,86.43525615822463,81.25200982266026,72.33714376181308,70.80449419274495,68.49487898379122,68.10592349388318,62.93525943610142,54.73389812881976,43.45448007627069,42.515613609853645,38.89511814263088,33.189210935020995,26.145623240876137,23.176612973286655,20.228056244471325,16.408718762933397,15.105107476145768,11.004351519832788],\"type\":\"pie\"}],                        {\"template\":{\"data\":{\"bar\":[{\"error_x\":{\"color\":\"#2a3f5f\"},\"error_y\":{\"color\":\"#2a3f5f\"},\"marker\":{\"line\":{\"color\":\"#E5ECF6\",\"width\":0.5},\"pattern\":{\"fillmode\":\"overlay\",\"size\":10,\"solidity\":0.2}},\"type\":\"bar\"}],\"barpolar\":[{\"marker\":{\"line\":{\"color\":\"#E5ECF6\",\"width\":0.5},\"pattern\":{\"fillmode\":\"overlay\",\"size\":10,\"solidity\":0.2}},\"type\":\"barpolar\"}],\"carpet\":[{\"aaxis\":{\"endlinecolor\":\"#2a3f5f\",\"gridcolor\":\"white\",\"linecolor\":\"white\",\"minorgridcolor\":\"white\",\"startlinecolor\":\"#2a3f5f\"},\"baxis\":{\"endlinecolor\":\"#2a3f5f\",\"gridcolor\":\"white\",\"linecolor\":\"white\",\"minorgridcolor\":\"white\",\"startlinecolor\":\"#2a3f5f\"},\"type\":\"carpet\"}],\"choropleth\":[{\"colorbar\":{\"outlinewidth\":0,\"ticks\":\"\"},\"type\":\"choropleth\"}],\"contour\":[{\"colorbar\":{\"outlinewidth\":0,\"ticks\":\"\"},\"colorscale\":[[0.0,\"#0d0887\"],[0.1111111111111111,\"#46039f\"],[0.2222222222222222,\"#7201a8\"],[0.3333333333333333,\"#9c179e\"],[0.4444444444444444,\"#bd3786\"],[0.5555555555555556,\"#d8576b\"],[0.6666666666666666,\"#ed7953\"],[0.7777777777777778,\"#fb9f3a\"],[0.8888888888888888,\"#fdca26\"],[1.0,\"#f0f921\"]],\"type\":\"contour\"}],\"contourcarpet\":[{\"colorbar\":{\"outlinewidth\":0,\"ticks\":\"\"},\"type\":\"contourcarpet\"}],\"heatmap\":[{\"colorbar\":{\"outlinewidth\":0,\"ticks\":\"\"},\"colorscale\":[[0.0,\"#0d0887\"],[0.1111111111111111,\"#46039f\"],[0.2222222222222222,\"#7201a8\"],[0.3333333333333333,\"#9c179e\"],[0.4444444444444444,\"#bd3786\"],[0.5555555555555556,\"#d8576b\"],[0.6666666666666666,\"#ed7953\"],[0.7777777777777778,\"#fb9f3a\"],[0.8888888888888888,\"#fdca26\"],[1.0,\"#f0f921\"]],\"type\":\"heatmap\"}],\"heatmapgl\":[{\"colorbar\":{\"outlinewidth\":0,\"ticks\":\"\"},\"colorscale\":[[0.0,\"#0d0887\"],[0.1111111111111111,\"#46039f\"],[0.2222222222222222,\"#7201a8\"],[0.3333333333333333,\"#9c179e\"],[0.4444444444444444,\"#bd3786\"],[0.5555555555555556,\"#d8576b\"],[0.6666666666666666,\"#ed7953\"],[0.7777777777777778,\"#fb9f3a\"],[0.8888888888888888,\"#fdca26\"],[1.0,\"#f0f921\"]],\"type\":\"heatmapgl\"}],\"histogram\":[{\"marker\":{\"pattern\":{\"fillmode\":\"overlay\",\"size\":10,\"solidity\":0.2}},\"type\":\"histogram\"}],\"histogram2d\":[{\"colorbar\":{\"outlinewidth\":0,\"ticks\":\"\"},\"colorscale\":[[0.0,\"#0d0887\"],[0.1111111111111111,\"#46039f\"],[0.2222222222222222,\"#7201a8\"],[0.3333333333333333,\"#9c179e\"],[0.4444444444444444,\"#bd3786\"],[0.5555555555555556,\"#d8576b\"],[0.6666666666666666,\"#ed7953\"],[0.7777777777777778,\"#fb9f3a\"],[0.8888888888888888,\"#fdca26\"],[1.0,\"#f0f921\"]],\"type\":\"histogram2d\"}],\"histogram2dcontour\":[{\"colorbar\":{\"outlinewidth\":0,\"ticks\":\"\"},\"colorscale\":[[0.0,\"#0d0887\"],[0.1111111111111111,\"#46039f\"],[0.2222222222222222,\"#7201a8\"],[0.3333333333333333,\"#9c179e\"],[0.4444444444444444,\"#bd3786\"],[0.5555555555555556,\"#d8576b\"],[0.6666666666666666,\"#ed7953\"],[0.7777777777777778,\"#fb9f3a\"],[0.8888888888888888,\"#fdca26\"],[1.0,\"#f0f921\"]],\"type\":\"histogram2dcontour\"}],\"mesh3d\":[{\"colorbar\":{\"outlinewidth\":0,\"ticks\":\"\"},\"type\":\"mesh3d\"}],\"parcoords\":[{\"line\":{\"colorbar\":{\"outlinewidth\":0,\"ticks\":\"\"}},\"type\":\"parcoords\"}],\"pie\":[{\"automargin\":true,\"type\":\"pie\"}],\"scatter\":[{\"marker\":{\"colorbar\":{\"outlinewidth\":0,\"ticks\":\"\"}},\"type\":\"scatter\"}],\"scatter3d\":[{\"line\":{\"colorbar\":{\"outlinewidth\":0,\"ticks\":\"\"}},\"marker\":{\"colorbar\":{\"outlinewidth\":0,\"ticks\":\"\"}},\"type\":\"scatter3d\"}],\"scattercarpet\":[{\"marker\":{\"colorbar\":{\"outlinewidth\":0,\"ticks\":\"\"}},\"type\":\"scattercarpet\"}],\"scattergeo\":[{\"marker\":{\"colorbar\":{\"outlinewidth\":0,\"ticks\":\"\"}},\"type\":\"scattergeo\"}],\"scattergl\":[{\"marker\":{\"colorbar\":{\"outlinewidth\":0,\"ticks\":\"\"}},\"type\":\"scattergl\"}],\"scattermapbox\":[{\"marker\":{\"colorbar\":{\"outlinewidth\":0,\"ticks\":\"\"}},\"type\":\"scattermapbox\"}],\"scatterpolar\":[{\"marker\":{\"colorbar\":{\"outlinewidth\":0,\"ticks\":\"\"}},\"type\":\"scatterpolar\"}],\"scatterpolargl\":[{\"marker\":{\"colorbar\":{\"outlinewidth\":0,\"ticks\":\"\"}},\"type\":\"scatterpolargl\"}],\"scatterternary\":[{\"marker\":{\"colorbar\":{\"outlinewidth\":0,\"ticks\":\"\"}},\"type\":\"scatterternary\"}],\"surface\":[{\"colorbar\":{\"outlinewidth\":0,\"ticks\":\"\"},\"colorscale\":[[0.0,\"#0d0887\"],[0.1111111111111111,\"#46039f\"],[0.2222222222222222,\"#7201a8\"],[0.3333333333333333,\"#9c179e\"],[0.4444444444444444,\"#bd3786\"],[0.5555555555555556,\"#d8576b\"],[0.6666666666666666,\"#ed7953\"],[0.7777777777777778,\"#fb9f3a\"],[0.8888888888888888,\"#fdca26\"],[1.0,\"#f0f921\"]],\"type\":\"surface\"}],\"table\":[{\"cells\":{\"fill\":{\"color\":\"#EBF0F8\"},\"line\":{\"color\":\"white\"}},\"header\":{\"fill\":{\"color\":\"#C8D4E3\"},\"line\":{\"color\":\"white\"}},\"type\":\"table\"}]},\"layout\":{\"annotationdefaults\":{\"arrowcolor\":\"#2a3f5f\",\"arrowhead\":0,\"arrowwidth\":1},\"autotypenumbers\":\"strict\",\"coloraxis\":{\"colorbar\":{\"outlinewidth\":0,\"ticks\":\"\"}},\"colorscale\":{\"diverging\":[[0,\"#8e0152\"],[0.1,\"#c51b7d\"],[0.2,\"#de77ae\"],[0.3,\"#f1b6da\"],[0.4,\"#fde0ef\"],[0.5,\"#f7f7f7\"],[0.6,\"#e6f5d0\"],[0.7,\"#b8e186\"],[0.8,\"#7fbc41\"],[0.9,\"#4d9221\"],[1,\"#276419\"]],\"sequential\":[[0.0,\"#0d0887\"],[0.1111111111111111,\"#46039f\"],[0.2222222222222222,\"#7201a8\"],[0.3333333333333333,\"#9c179e\"],[0.4444444444444444,\"#bd3786\"],[0.5555555555555556,\"#d8576b\"],[0.6666666666666666,\"#ed7953\"],[0.7777777777777778,\"#fb9f3a\"],[0.8888888888888888,\"#fdca26\"],[1.0,\"#f0f921\"]],\"sequentialminus\":[[0.0,\"#0d0887\"],[0.1111111111111111,\"#46039f\"],[0.2222222222222222,\"#7201a8\"],[0.3333333333333333,\"#9c179e\"],[0.4444444444444444,\"#bd3786\"],[0.5555555555555556,\"#d8576b\"],[0.6666666666666666,\"#ed7953\"],[0.7777777777777778,\"#fb9f3a\"],[0.8888888888888888,\"#fdca26\"],[1.0,\"#f0f921\"]]},\"colorway\":[\"#636efa\",\"#EF553B\",\"#00cc96\",\"#ab63fa\",\"#FFA15A\",\"#19d3f3\",\"#FF6692\",\"#B6E880\",\"#FF97FF\",\"#FECB52\"],\"font\":{\"color\":\"#2a3f5f\"},\"geo\":{\"bgcolor\":\"white\",\"lakecolor\":\"white\",\"landcolor\":\"#E5ECF6\",\"showlakes\":true,\"showland\":true,\"subunitcolor\":\"white\"},\"hoverlabel\":{\"align\":\"left\"},\"hovermode\":\"closest\",\"mapbox\":{\"style\":\"light\"},\"paper_bgcolor\":\"white\",\"plot_bgcolor\":\"#E5ECF6\",\"polar\":{\"angularaxis\":{\"gridcolor\":\"white\",\"linecolor\":\"white\",\"ticks\":\"\"},\"bgcolor\":\"#E5ECF6\",\"radialaxis\":{\"gridcolor\":\"white\",\"linecolor\":\"white\",\"ticks\":\"\"}},\"scene\":{\"xaxis\":{\"backgroundcolor\":\"#E5ECF6\",\"gridcolor\":\"white\",\"gridwidth\":2,\"linecolor\":\"white\",\"showbackground\":true,\"ticks\":\"\",\"zerolinecolor\":\"white\"},\"yaxis\":{\"backgroundcolor\":\"#E5ECF6\",\"gridcolor\":\"white\",\"gridwidth\":2,\"linecolor\":\"white\",\"showbackground\":true,\"ticks\":\"\",\"zerolinecolor\":\"white\"},\"zaxis\":{\"backgroundcolor\":\"#E5ECF6\",\"gridcolor\":\"white\",\"gridwidth\":2,\"linecolor\":\"white\",\"showbackground\":true,\"ticks\":\"\",\"zerolinecolor\":\"white\"}},\"shapedefaults\":{\"line\":{\"color\":\"#2a3f5f\"}},\"ternary\":{\"aaxis\":{\"gridcolor\":\"white\",\"linecolor\":\"white\",\"ticks\":\"\"},\"baxis\":{\"gridcolor\":\"white\",\"linecolor\":\"white\",\"ticks\":\"\"},\"bgcolor\":\"#E5ECF6\",\"caxis\":{\"gridcolor\":\"white\",\"linecolor\":\"white\",\"ticks\":\"\"}},\"title\":{\"x\":0.05},\"xaxis\":{\"automargin\":true,\"gridcolor\":\"white\",\"linecolor\":\"white\",\"ticks\":\"\",\"title\":{\"standoff\":15},\"zerolinecolor\":\"white\",\"zerolinewidth\":2},\"yaxis\":{\"automargin\":true,\"gridcolor\":\"white\",\"linecolor\":\"white\",\"ticks\":\"\",\"title\":{\"standoff\":15},\"zerolinecolor\":\"white\",\"zerolinewidth\":2}}},\"legend\":{\"tracegroupgap\":0},\"title\":{\"text\":\"Porcentaje de los 15 cantones de mayor longitud total de la red vial en el pa\\u00eds\"}},                        {\"responsive\": true}                    ).then(function(){\n",
       "                            \n",
       "var gd = document.getElementById('ab18d0f2-0822-4e6b-a8ec-4eb337d74147');\n",
       "var x = new MutationObserver(function (mutations, observer) {{\n",
       "        var display = window.getComputedStyle(gd).display;\n",
       "        if (!display || display === 'none') {{\n",
       "            console.log([gd, 'removed!']);\n",
       "            Plotly.purge(gd);\n",
       "            observer.disconnect();\n",
       "        }}\n",
       "}});\n",
       "\n",
       "// Listen for the removal of the full notebook cells\n",
       "var notebookContainer = gd.closest('#notebook-container');\n",
       "if (notebookContainer) {{\n",
       "    x.observe(notebookContainer, {childList: true});\n",
       "}}\n",
       "\n",
       "// Listen for the clearing of the current output cell\n",
       "var outputEl = gd.closest('.output');\n",
       "if (outputEl) {{\n",
       "    x.observe(outputEl, {childList: true});\n",
       "}}\n",
       "\n",
       "                        })                };                });            </script>        </div>"
      ]
     },
     "metadata": {},
     "output_type": "display_data"
    }
   ],
   "source": [
    "#ordenar los valores por longitud\n",
    "pastel = redvial_x_canton_agrupados[['canton', 'longitud']].sort_values(\"longitud\", ascending=[False])\n",
    "#reset al index\n",
    "pastel = pastel.reset_index()\n",
    "#extraer la longitud de valor 15\n",
    "longitud_15= pastel['longitud'].loc[14]\n",
    "#cambiar el canton a los siguientes valores luego del 15\n",
    "pastel.loc[pastel['longitud'] < longitud_15 , 'canton'] = 'Otros cantones' \n",
    "#Gráfico plotly de pastel \n",
    "fig = px.pie(pastel, values='longitud', names='canton', title='Porcentaje de los 15 cantones de mayor longitud total de la red vial en el país')\n",
    "fig.show()"
   ]
  },
  {
   "cell_type": "markdown",
   "id": "40f5cefb",
   "metadata": {},
   "source": [
    "## Mapa folium \n",
    "\n",
    "Un mapa folium con las siguientes capas:\n",
    "* Capa base (OpenStreetMap, Stamen, etc.).\n",
    "* Capa de coropletas correspondiente a la densidad de la red vial en los cantones.\n",
    "* Líneas de la red vial.\n",
    "\n",
    "Y los siguientes controles:\n",
    "* Control para activar y desactivar capas.\n",
    "* Escala\n"
   ]
  },
  {
   "cell_type": "code",
   "execution_count": null,
   "id": "3ceb04f7",
   "metadata": {},
   "outputs": [],
   "source": [
    "# Cargar el GeoJason en un dataframe de pandas\n",
    "densidad_file = redvial_x_canton_agrupados[['canton','densidad']]\n",
    "# Cargar el GeoJason en un dataframe de pandas\n",
    "cantones_file = gpad.read_file('../datos/cantones.geojson')\n",
    "# Cargar el GeoJason en un dataframe de pandas\n",
    "redvial_file = gpad.read_file('../datos/redvial.geojson')\n",
    "\n",
    "cantones_file = cantones_file.to_crs(4326)\n",
    "redvial_file = redvial_file.to_crs(4326)\n",
    "\n",
    "# Creación del mapa base\n",
    "mapa= folium.Map(\n",
    "    location=[9.8, -84], \n",
    "    width=1000, height=1000, \n",
    "    zoom_start=8,\n",
    "    control_scale=True,\n",
    "    tiles='Stamen Watercolor'\n",
    "    )\n",
    "\n",
    "#Añadir mapa de coropletas\n",
    "folium.Choropleth(\n",
    "    name=\"Densidad de la red vial en los cantones de Costa Rica\",\n",
    "    geo_data=cantones_file,\n",
    "    data=densidad_file,\n",
    "    columns=['canton', 'densidad'],\n",
    "    bins=8,\n",
    "    key_on='feature.properties.canton',\n",
    "    fill_color='Greens', \n",
    "    fill_opacity=1, \n",
    "    line_opacity=1,\n",
    "    legend_name='densidad',\n",
    "    smooth_factor=0 ).add_to(mapa)\n",
    "\n",
    "#añadir capa con las lineas de red vial\n",
    "folium.GeoJson(data=redvial_file, name='Red vial').add_to(mapa)\n",
    "\n",
    "# Control de capas\n",
    "folium.LayerControl().add_to(mapa)\n",
    "\n",
    "# Despliegue del mapa\n",
    "mapa"
   ]
  },
  {
   "cell_type": "code",
   "execution_count": null,
   "id": "246f7649",
   "metadata": {},
   "outputs": [],
   "source": []
  }
 ],
 "metadata": {
  "kernelspec": {
   "display_name": "Python 3 (ipykernel)",
   "language": "python",
   "name": "python3"
  },
  "language_info": {
   "codemirror_mode": {
    "name": "ipython",
    "version": 3
   },
   "file_extension": ".py",
   "mimetype": "text/x-python",
   "name": "python",
   "nbconvert_exporter": "python",
   "pygments_lexer": "ipython3",
   "version": "3.9.10"
  }
 },
 "nbformat": 4,
 "nbformat_minor": 5
}
