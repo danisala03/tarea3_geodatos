{
 "cells": [
  {
   "cell_type": "markdown",
   "id": "ded1f288",
   "metadata": {},
   "source": [
    "# Tarea 03 - Análisis de datos geoespaciales mediante pandas, plotly, geopandas y folium"
   ]
  },
  {
   "cell_type": "markdown",
   "id": "2504bbd9",
   "metadata": {},
   "source": [
    "## Estudiantes:\n",
    "\n",
    "Daniel Salazar Mora - B87214\n",
    "Stephanie María Leitón Ramírez - B74106\n"
   ]
  },
  {
   "cell_type": "code",
   "execution_count": null,
   "id": "40129cad",
   "metadata": {},
   "outputs": [],
   "source": [
    "import os\n",
    "import fiona\n",
    "import fiona.crs\n",
    "import folium\n",
    "import geopandas as gpad\n",
    "import plotly.express as px"
   ]
  },
  {
   "cell_type": "markdown",
   "id": "a16b58b7",
   "metadata": {},
   "source": [
    "## Obtención de datos\n",
    "\n",
    "Se usan las capas de Web Feature Service (WFS) publicadas por el Instituto Geográfico Nacional (IGN) en el Sistema Nacional de Información Territorial (SNIT):\n",
    "\n",
    "Límite cantonal 1:5000\n",
    "https://www.snitcr.go.cr/ico_servicios_ogc_info?k=bm9kbzo6MjY=&nombre=IGN%20Cartograf%C3%ADa%201:5mil\n",
    " \n",
    "Red vial 1:200000\n",
    "https://www.snitcr.go.cr/ico_servicios_ogc_info?k=bm9kbzo6NDI=&nombre=IGN%201:200mil\n"
   ]
  },
  {
   "cell_type": "markdown",
   "id": "1af457ac",
   "metadata": {},
   "source": [
    "## Tabla con los 82 cantones de Costa Rica"
   ]
  },
  {
   "cell_type": "code",
   "execution_count": null,
   "id": "9246970f",
   "metadata": {},
   "outputs": [],
   "source": [
    "#cargar como geopandas\n",
    "redvial_file = gpad.read_file('../datos/redvial.geojson')\n",
    "cantones_file = gpad.read_file('../datos/cantones.geojson')\n",
    "#convertir capas\n",
    "redvial_file.to_crs(5367)\n",
    "cantones_file.to_crs(5367)\n",
    "\n",
    "#Unir las capas con intersección espacial \n",
    "redvial_x_canton = cantones_file.overlay(redvial_file, how='intersection', keep_geom_type=False)\n",
    "redvial_x_canton['longitud'] = redvial_x_canton['geometry'].length /1000"
   ]
  },
  {
   "cell_type": "code",
   "execution_count": null,
   "id": "40a53f02",
   "metadata": {},
   "outputs": [],
   "source": [
    "# Group by de canton y categorias\n",
    "redvial_x_canton_agrupados = redvial_x_canton.groupby(['canton', 'categoria']).agg({'longitud': 'sum', 'area': 'min'})\n",
    "redvial_x_canton_agrupados = redvial_x_canton_agrupados.reset_index()\n",
    "\n",
    "# Se separan las categorias como columnas al añadir un multinivel\n",
    "redvial_x_canton_agrupados = redvial_x_canton_agrupados.pivot_table('longitud', ['canton', 'area'], 'categoria')\n",
    "\n",
    "# reordenar columnas volviendo a un sólo nivel de columnas\n",
    "redvial_x_canton_agrupados.reset_index( drop=False, inplace=True )\n",
    "redvial_x_canton_agrupados.reindex(['CAMINO DE TIERRA','AUTOPISTA',\n",
    "                                        'CARRETERA PAVIMENTO DOS VIAS O MAS',\n",
    "                                        'CARRETERA PAVIMENTO UNA VIA',\n",
    "                                        'CARRETERA SIN PAVIMENTO DOS VIAS'], axis=1)\n",
    "\n",
    "# calcular longitud total\n",
    "redvial_x_canton_agrupados['longitud'] = redvial_x_canton_agrupados[['CAMINO DE TIERRA','AUTOPISTA',\n",
    "                                                                        'CARRETERA PAVIMENTO DOS VIAS O MAS',\n",
    "                                                                        'CARRETERA PAVIMENTO UNA VIA',\n",
    "                                                                        'CARRETERA SIN PAVIMENTO DOS VIAS'\n",
    "                                                                       ]].sum(axis=1)\n",
    "\n",
    "\n",
    "#calcular densidad\n",
    "redvial_x_canton_agrupados['densidad'] = redvial_x_canton_agrupados[\"longitud\"].div(redvial_x_canton_agrupados['area'])\n",
    "\n",
    "redvial_x_canton_agrupados"
   ]
  },
  {
   "cell_type": "markdown",
   "id": "d9cf4c32",
   "metadata": {},
   "source": [
    "## Gráfico plotly de barras "
   ]
  },
  {
   "cell_type": "code",
   "execution_count": null,
   "id": "79b10f0f",
   "metadata": {},
   "outputs": [],
   "source": [
    "#Extraer las 15 cantones de mayor longitud total de red vial\n",
    "# Dataframe filtrado para usar en graficación\n",
    "longitud_grafico = redvial_x_canton_agrupados[['canton', 'longitud','CAMINO DE TIERRA','AUTOPISTA',\n",
    "                                                'CARRETERA PAVIMENTO DOS VIAS O MAS',\n",
    "                                                'CARRETERA PAVIMENTO UNA VIA',\n",
    "                                                'CARRETERA SIN PAVIMENTO DOS VIAS'\n",
    "                                              ]].sort_values(\"longitud\", ascending=[False]).head(15)\n",
    "#Gráfico plotly de barras apiladas \n",
    "fig = px.bar(longitud_grafico, x=\"canton\", y=['CAMINO DE TIERRA','AUTOPISTA',\n",
    "                                                'CARRETERA PAVIMENTO DOS VIAS O MAS',\n",
    "                                                'CARRETERA PAVIMENTO UNA VIA',\n",
    "                                                'CARRETERA SIN PAVIMENTO DOS VIAS'\n",
    "                                             ], title=\"Cantones de mayor longitud total de red vial\")\n",
    "fig.show()"
   ]
  },
  {
   "cell_type": "markdown",
   "id": "689f1385",
   "metadata": {},
   "source": [
    "## Gráfico plotly de pastel \n",
    "\n",
    "Porcentaje de red vial de los 15 cantones de mayor longitud total de la red vial, con respecto a la longitud de la red vial en todo el país.\n",
    "La porción (slice) adicional en el gráfico de pastel llamada “Otros cantones”, correspondiente al porcentaje de la suma de la red vial en los 67 cantones restantes.\""
   ]
  },
  {
   "cell_type": "code",
   "execution_count": null,
   "id": "1179430d",
   "metadata": {},
   "outputs": [],
   "source": [
    "#ordenar los valores por longitud\n",
    "pastel = redvial_x_canton_agrupados[['canton', 'longitud']].sort_values(\"longitud\", ascending=[False])\n",
    "#reset al index\n",
    "pastel = pastel.reset_index()\n",
    "#extraer la longitud de valor 15\n",
    "longitud_15= pastel['longitud'].loc[14]\n",
    "#cambiar el canton a los siguientes valores luego del 15\n",
    "pastel.loc[pastel['longitud'] < longitud_15 , 'canton'] = 'Otros cantones' \n",
    "#Gráfico plotly de pastel \n",
    "fig = px.pie(pastel, values='longitud', names='canton', title='Porcentaje de los 15 cantones de mayor longitud total de la red vial en el país')\n",
    "fig.show()"
   ]
  },
  {
   "cell_type": "markdown",
   "id": "7754cc5a",
   "metadata": {},
   "source": [
    "## Mapa folium \n",
    "\n",
    "Un mapa folium con las siguientes capas:\n",
    "* Capa base (OpenStreetMap, Stamen, etc.).\n",
    "* Capa de coropletas correspondiente a la densidad de la red vial en los cantones.\n",
    "* Líneas de la red vial.\n",
    "\n",
    "Y los siguientes controles:\n",
    "* Control para activar y desactivar capas.\n",
    "* Escala\n"
   ]
  },
  {
   "cell_type": "code",
   "execution_count": null,
   "id": "53deec00",
   "metadata": {},
   "outputs": [],
   "source": [
    "# Cargar el GeoJason en un dataframe de pandas\n",
    "densidad_file = redvial_x_canton_agrupados\n",
    "# Cargar el GeoJason en un dataframe de pandas\n",
    "cantones_file = gpad.read_file('../datos/cantones.geojson')\n",
    "# Cargar el GeoJason en un dataframe de pandas\n",
    "redvial_file = gpad.read_file('../datos/redvial.geojson')"
   ]
  },
  {
   "cell_type": "code",
   "execution_count": null,
   "id": "852565a1",
   "metadata": {},
   "outputs": [],
   "source": [
    "cantones_file = cantones_file.to_crs(4326)\n",
    "redvial_file = redvial_file.to_crs(4326)\n",
    "\n",
    "# Creación del mapa base\n",
    "mapa= folium.Map(\n",
    "    location=[9.8, -84], \n",
    "    width=1000, height=1000, \n",
    "    zoom_start=8,\n",
    "    control_scale=True,\n",
    "    tiles='Stamen Watercolor'\n",
    "    )\n",
    "\n",
    "#Añadir mapa de coropletas\n",
    "folium.Choropleth(\n",
    "    name=\"Densidad de la red vial en los cantones de Costa Rica\",\n",
    "    geo_data=cantones_file,\n",
    "    data=densidad_file,\n",
    "    columns=['canton', 'densidad'],\n",
    "    bins=8,\n",
    "    key_on='feature.properties.canton',\n",
    "    fill_color='Greens', \n",
    "    fill_opacity=1, \n",
    "    line_opacity=1,\n",
    "    legend_name='densidad',\n",
    "    smooth_factor=0 ).add_to(mapa)\n",
    "\n",
    "#añadir capa con las lineas de red vial\n",
    "folium.GeoJson(data=redvial_file, name='Red vial').add_to(mapa)\n",
    "\n",
    "# Control de capas\n",
    "folium.LayerControl().add_to(mapa)\n",
    "\n",
    "# Despliegue del mapa\n",
    "mapa"
   ]
  },
  {
   "cell_type": "code",
   "execution_count": null,
   "id": "f477d87c",
   "metadata": {},
   "outputs": [],
   "source": []
  }
 ],
 "metadata": {
  "kernelspec": {
   "display_name": "Python 3 (ipykernel)",
   "language": "python",
   "name": "python3"
  },
  "language_info": {
   "codemirror_mode": {
    "name": "ipython",
    "version": 3
   },
   "file_extension": ".py",
   "mimetype": "text/x-python",
   "name": "python",
   "nbconvert_exporter": "python",
   "pygments_lexer": "ipython3",
   "version": "3.9.10"
  }
 },
 "nbformat": 4,
 "nbformat_minor": 5
}
